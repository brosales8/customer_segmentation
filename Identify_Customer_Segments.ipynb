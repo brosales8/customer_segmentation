{
 "cells": [
  {
   "cell_type": "markdown",
   "metadata": {
    "colab_type": "text",
    "id": "XEH5NerX--zJ"
   },
   "source": [
    "# Project: Identify Customer Segments\n",
    "\n",
    "In this project, you will apply unsupervised learning techniques to identify segments of the population that form the core customer base for a mail-order sales company in Germany. These segments can then be used to direct marketing campaigns towards audiences that will have the highest expected rate of returns. The data that you will use has been provided by our partners at Bertelsmann Arvato Analytics, and represents a real-life data science task.\n",
    "\n",
    "This notebook will help you complete this task by providing a framework within which you will perform your analysis steps. In each step of the project, you will see some text describing the subtask that you will perform, followed by one or more code cells for you to complete your work. **Feel free to add additional code and markdown cells as you go along so that you can explore everything in precise chunks.** The code cells provided in the base template will outline only the major tasks, and will usually not be enough to cover all of the minor tasks that comprise it.\n",
    "\n",
    "It should be noted that while there will be precise guidelines on how you should handle certain tasks in the project, there will also be places where an exact specification is not provided. **There will be times in the project where you will need to make and justify your own decisions on how to treat the data.** These are places where there may not be only one way to handle the data. In real-life tasks, there may be many valid ways to approach an analysis task. One of the most important things you can do is clearly document your approach so that other scientists can understand the decisions you've made.\n",
    "\n",
    "At the end of most sections, there will be a Markdown cell labeled **Discussion**. In these cells, you will report your findings for the completed section, as well as document the decisions that you made in your approach to each subtask. **Your project will be evaluated not just on the code used to complete the tasks outlined, but also your communication about your observations and conclusions at each stage.**"
   ]
  },
  {
   "cell_type": "code",
   "execution_count": null,
   "metadata": {
    "colab": {
     "base_uri": "https://localhost:8080/",
     "height": 68
    },
    "colab_type": "code",
    "executionInfo": {
     "elapsed": 662,
     "status": "ok",
     "timestamp": 1587236446763,
     "user": {
      "displayName": "Bryan Rosales",
      "photoUrl": "https://lh3.googleusercontent.com/a-/AOh14Gi4LdV9oEFDOQL86LAxT0UvRGaMt5qJOu5Fih7Dcw=s64",
      "userId": "17871844988970439474"
     },
     "user_tz": 420
    },
    "id": "Du_dCj9K--zN",
    "outputId": "7305f13e-83d8-4f3a-dcf5-31657339f319"
   },
   "outputs": [],
   "source": [
    "# import libraries here; add more as necessary\n",
    "import numpy as np\n",
    "import pandas as pd\n",
    "import matplotlib.pyplot as plt\n",
    "import seaborn as sns\n",
    "import math\n",
    "\n",
    "# magic word for producing visualizations in notebook\n",
    "%matplotlib inline\n",
    "\n",
    "'''\n",
    "Import note: The classroom currently uses sklearn version 0.19.\n",
    "If you need to use an imputer, it is available in sklearn.preprocessing.Imputer,\n",
    "instead of sklearn.impute as in newer versions of sklearn.\n",
    "'''"
   ]
  },
  {
   "cell_type": "markdown",
   "metadata": {
    "colab_type": "text",
    "id": "LU3tWlu0--zY"
   },
   "source": [
    "### Step 0: Load the Data\n",
    "\n",
    "There are four files associated with this project (not including this one):\n",
    "\n",
    "- `Udacity_AZDIAS_Subset.csv`: Demographics data for the general population of Germany; 891211 persons (rows) x 85 features (columns).\n",
    "- `Udacity_CUSTOMERS_Subset.csv`: Demographics data for customers of a mail-order company; 191652 persons (rows) x 85 features (columns).\n",
    "- `Data_Dictionary.md`: Detailed information file about the features in the provided datasets.\n",
    "- `AZDIAS_Feature_Summary.csv`: Summary of feature attributes for demographics data; 85 features (rows) x 4 columns\n",
    "\n",
    "Each row of the demographics files represents a single person, but also includes information outside of individuals, including information about their household, building, and neighborhood. You will use this information to cluster the general population into groups with similar demographic properties. Then, you will see how the people in the customers dataset fit into those created clusters. The hope here is that certain clusters are over-represented in the customers data, as compared to the general population; those over-represented clusters will be assumed to be part of the core userbase. This information can then be used for further applications, such as targeting for a marketing campaign.\n",
    "\n",
    "To start off with, load in the demographics data for the general population into a pandas DataFrame, and do the same for the feature attributes summary. Note for all of the `.csv` data files in this project: they're semicolon (`;`) delimited, so you'll need an additional argument in your [`read_csv()`](https://pandas.pydata.org/pandas-docs/stable/generated/pandas.read_csv.html) call to read in the data properly. Also, considering the size of the main dataset, it may take some time for it to load completely.\n",
    "\n",
    "Once the dataset is loaded, it's recommended that you take a little bit of time just browsing the general structure of the dataset and feature summary file. You'll be getting deep into the innards of the cleaning in the first major step of the project, so gaining some general familiarity can help you get your bearings."
   ]
  },
  {
   "cell_type": "code",
   "execution_count": 2,
   "metadata": {
    "colab": {},
    "colab_type": "code",
    "id": "WJrjkBL8--zZ"
   },
   "outputs": [],
   "source": [
    "# Load in the general demographics data.\n",
    "azdias = pd.read_csv('./Udacity_AZDIAS_Subset.csv', sep=';')\n",
    "\n",
    "# Load in the feature summary file.\n",
    "feat_info = pd.read_csv('./AZDIAS_Feature_Summary.csv', sep=';')\n"
   ]
  },
  {
   "cell_type": "code",
   "execution_count": 3,
   "metadata": {
    "colab": {
     "base_uri": "https://localhost:8080/",
     "height": 241
    },
    "colab_type": "code",
    "executionInfo": {
     "elapsed": 1941,
     "status": "ok",
     "timestamp": 1587238142561,
     "user": {
      "displayName": "Bryan Rosales",
      "photoUrl": "https://lh3.googleusercontent.com/a-/AOh14Gi4LdV9oEFDOQL86LAxT0UvRGaMt5qJOu5Fih7Dcw=s64",
      "userId": "17871844988970439474"
     },
     "user_tz": 420
    },
    "id": "AWFceKES--zf",
    "outputId": "66d9af41-e6cd-4b0a-aa83-42a1656eb4f2"
   },
   "outputs": [
    {
     "name": "stdout",
     "output_type": "stream",
     "text": [
      "AZdias Subset\n",
      "rows:  891221 \n",
      "columns:  85\n"
     ]
    },
    {
     "data": {
      "text/html": [
       "<div>\n",
       "<style scoped>\n",
       "    .dataframe tbody tr th:only-of-type {\n",
       "        vertical-align: middle;\n",
       "    }\n",
       "\n",
       "    .dataframe tbody tr th {\n",
       "        vertical-align: top;\n",
       "    }\n",
       "\n",
       "    .dataframe thead th {\n",
       "        text-align: right;\n",
       "    }\n",
       "</style>\n",
       "<table border=\"1\" class=\"dataframe\">\n",
       "  <thead>\n",
       "    <tr style=\"text-align: right;\">\n",
       "      <th></th>\n",
       "      <th>AGER_TYP</th>\n",
       "      <th>ALTERSKATEGORIE_GROB</th>\n",
       "      <th>ANREDE_KZ</th>\n",
       "      <th>CJT_GESAMTTYP</th>\n",
       "      <th>FINANZ_MINIMALIST</th>\n",
       "      <th>FINANZ_SPARER</th>\n",
       "      <th>FINANZ_VORSORGER</th>\n",
       "      <th>FINANZ_ANLEGER</th>\n",
       "      <th>FINANZ_UNAUFFAELLIGER</th>\n",
       "      <th>FINANZ_HAUSBAUER</th>\n",
       "      <th>...</th>\n",
       "      <th>PLZ8_ANTG1</th>\n",
       "      <th>PLZ8_ANTG2</th>\n",
       "      <th>PLZ8_ANTG3</th>\n",
       "      <th>PLZ8_ANTG4</th>\n",
       "      <th>PLZ8_BAUMAX</th>\n",
       "      <th>PLZ8_HHZ</th>\n",
       "      <th>PLZ8_GBZ</th>\n",
       "      <th>ARBEIT</th>\n",
       "      <th>ORTSGR_KLS9</th>\n",
       "      <th>RELAT_AB</th>\n",
       "    </tr>\n",
       "  </thead>\n",
       "  <tbody>\n",
       "    <tr>\n",
       "      <th>0</th>\n",
       "      <td>-1</td>\n",
       "      <td>2</td>\n",
       "      <td>1</td>\n",
       "      <td>2.0</td>\n",
       "      <td>3</td>\n",
       "      <td>4</td>\n",
       "      <td>3</td>\n",
       "      <td>5</td>\n",
       "      <td>5</td>\n",
       "      <td>3</td>\n",
       "      <td>...</td>\n",
       "      <td>NaN</td>\n",
       "      <td>NaN</td>\n",
       "      <td>NaN</td>\n",
       "      <td>NaN</td>\n",
       "      <td>NaN</td>\n",
       "      <td>NaN</td>\n",
       "      <td>NaN</td>\n",
       "      <td>NaN</td>\n",
       "      <td>NaN</td>\n",
       "      <td>NaN</td>\n",
       "    </tr>\n",
       "    <tr>\n",
       "      <th>1</th>\n",
       "      <td>-1</td>\n",
       "      <td>1</td>\n",
       "      <td>2</td>\n",
       "      <td>5.0</td>\n",
       "      <td>1</td>\n",
       "      <td>5</td>\n",
       "      <td>2</td>\n",
       "      <td>5</td>\n",
       "      <td>4</td>\n",
       "      <td>5</td>\n",
       "      <td>...</td>\n",
       "      <td>2.0</td>\n",
       "      <td>3.0</td>\n",
       "      <td>2.0</td>\n",
       "      <td>1.0</td>\n",
       "      <td>1.0</td>\n",
       "      <td>5.0</td>\n",
       "      <td>4.0</td>\n",
       "      <td>3.0</td>\n",
       "      <td>5.0</td>\n",
       "      <td>4.0</td>\n",
       "    </tr>\n",
       "    <tr>\n",
       "      <th>2</th>\n",
       "      <td>-1</td>\n",
       "      <td>3</td>\n",
       "      <td>2</td>\n",
       "      <td>3.0</td>\n",
       "      <td>1</td>\n",
       "      <td>4</td>\n",
       "      <td>1</td>\n",
       "      <td>2</td>\n",
       "      <td>3</td>\n",
       "      <td>5</td>\n",
       "      <td>...</td>\n",
       "      <td>3.0</td>\n",
       "      <td>3.0</td>\n",
       "      <td>1.0</td>\n",
       "      <td>0.0</td>\n",
       "      <td>1.0</td>\n",
       "      <td>4.0</td>\n",
       "      <td>4.0</td>\n",
       "      <td>3.0</td>\n",
       "      <td>5.0</td>\n",
       "      <td>2.0</td>\n",
       "    </tr>\n",
       "    <tr>\n",
       "      <th>3</th>\n",
       "      <td>2</td>\n",
       "      <td>4</td>\n",
       "      <td>2</td>\n",
       "      <td>2.0</td>\n",
       "      <td>4</td>\n",
       "      <td>2</td>\n",
       "      <td>5</td>\n",
       "      <td>2</td>\n",
       "      <td>1</td>\n",
       "      <td>2</td>\n",
       "      <td>...</td>\n",
       "      <td>2.0</td>\n",
       "      <td>2.0</td>\n",
       "      <td>2.0</td>\n",
       "      <td>0.0</td>\n",
       "      <td>1.0</td>\n",
       "      <td>3.0</td>\n",
       "      <td>4.0</td>\n",
       "      <td>2.0</td>\n",
       "      <td>3.0</td>\n",
       "      <td>3.0</td>\n",
       "    </tr>\n",
       "    <tr>\n",
       "      <th>4</th>\n",
       "      <td>-1</td>\n",
       "      <td>3</td>\n",
       "      <td>1</td>\n",
       "      <td>5.0</td>\n",
       "      <td>4</td>\n",
       "      <td>3</td>\n",
       "      <td>4</td>\n",
       "      <td>1</td>\n",
       "      <td>3</td>\n",
       "      <td>2</td>\n",
       "      <td>...</td>\n",
       "      <td>2.0</td>\n",
       "      <td>4.0</td>\n",
       "      <td>2.0</td>\n",
       "      <td>1.0</td>\n",
       "      <td>2.0</td>\n",
       "      <td>3.0</td>\n",
       "      <td>3.0</td>\n",
       "      <td>4.0</td>\n",
       "      <td>6.0</td>\n",
       "      <td>5.0</td>\n",
       "    </tr>\n",
       "  </tbody>\n",
       "</table>\n",
       "<p>5 rows × 85 columns</p>\n",
       "</div>"
      ],
      "text/plain": [
       "   AGER_TYP  ALTERSKATEGORIE_GROB  ANREDE_KZ  CJT_GESAMTTYP  \\\n",
       "0        -1                     2          1            2.0   \n",
       "1        -1                     1          2            5.0   \n",
       "2        -1                     3          2            3.0   \n",
       "3         2                     4          2            2.0   \n",
       "4        -1                     3          1            5.0   \n",
       "\n",
       "   FINANZ_MINIMALIST  FINANZ_SPARER  FINANZ_VORSORGER  FINANZ_ANLEGER  \\\n",
       "0                  3              4                 3               5   \n",
       "1                  1              5                 2               5   \n",
       "2                  1              4                 1               2   \n",
       "3                  4              2                 5               2   \n",
       "4                  4              3                 4               1   \n",
       "\n",
       "   FINANZ_UNAUFFAELLIGER  FINANZ_HAUSBAUER  ...  PLZ8_ANTG1  PLZ8_ANTG2  \\\n",
       "0                      5                 3  ...         NaN         NaN   \n",
       "1                      4                 5  ...         2.0         3.0   \n",
       "2                      3                 5  ...         3.0         3.0   \n",
       "3                      1                 2  ...         2.0         2.0   \n",
       "4                      3                 2  ...         2.0         4.0   \n",
       "\n",
       "   PLZ8_ANTG3  PLZ8_ANTG4  PLZ8_BAUMAX  PLZ8_HHZ  PLZ8_GBZ  ARBEIT  \\\n",
       "0         NaN         NaN          NaN       NaN       NaN     NaN   \n",
       "1         2.0         1.0          1.0       5.0       4.0     3.0   \n",
       "2         1.0         0.0          1.0       4.0       4.0     3.0   \n",
       "3         2.0         0.0          1.0       3.0       4.0     2.0   \n",
       "4         2.0         1.0          2.0       3.0       3.0     4.0   \n",
       "\n",
       "   ORTSGR_KLS9  RELAT_AB  \n",
       "0          NaN       NaN  \n",
       "1          5.0       4.0  \n",
       "2          5.0       2.0  \n",
       "3          3.0       3.0  \n",
       "4          6.0       5.0  \n",
       "\n",
       "[5 rows x 85 columns]"
      ]
     },
     "execution_count": 3,
     "metadata": {},
     "output_type": "execute_result"
    }
   ],
   "source": [
    "# Check the structure of the data after it's loaded (e.g. print the number of\n",
    "# rows and columns, print the first few rows).\n",
    "\n",
    "print('AZdias Subset\\nrows: ',azdias.shape[0], '\\ncolumns: ', azdias.shape[1])\n",
    "azdias.head()"
   ]
  },
  {
   "cell_type": "code",
   "execution_count": 4,
   "metadata": {
    "colab": {
     "base_uri": "https://localhost:8080/",
     "height": 193
    },
    "colab_type": "code",
    "executionInfo": {
     "elapsed": 2106,
     "status": "ok",
     "timestamp": 1587238146604,
     "user": {
      "displayName": "Bryan Rosales",
      "photoUrl": "https://lh3.googleusercontent.com/a-/AOh14Gi4LdV9oEFDOQL86LAxT0UvRGaMt5qJOu5Fih7Dcw=s64",
      "userId": "17871844988970439474"
     },
     "user_tz": 420
    },
    "id": "lZIc-o0pFcbe",
    "outputId": "265e206c-38c5-42c7-88eb-4d023b3d553f"
   },
   "outputs": [
    {
     "data": {
      "text/html": [
       "<div>\n",
       "<style scoped>\n",
       "    .dataframe tbody tr th:only-of-type {\n",
       "        vertical-align: middle;\n",
       "    }\n",
       "\n",
       "    .dataframe tbody tr th {\n",
       "        vertical-align: top;\n",
       "    }\n",
       "\n",
       "    .dataframe thead th {\n",
       "        text-align: right;\n",
       "    }\n",
       "</style>\n",
       "<table border=\"1\" class=\"dataframe\">\n",
       "  <thead>\n",
       "    <tr style=\"text-align: right;\">\n",
       "      <th></th>\n",
       "      <th>AGER_TYP</th>\n",
       "      <th>ALTERSKATEGORIE_GROB</th>\n",
       "      <th>ANREDE_KZ</th>\n",
       "      <th>CJT_GESAMTTYP</th>\n",
       "      <th>FINANZ_MINIMALIST</th>\n",
       "      <th>FINANZ_SPARER</th>\n",
       "      <th>FINANZ_VORSORGER</th>\n",
       "      <th>FINANZ_ANLEGER</th>\n",
       "      <th>FINANZ_UNAUFFAELLIGER</th>\n",
       "      <th>FINANZ_HAUSBAUER</th>\n",
       "      <th>...</th>\n",
       "      <th>PLZ8_ANTG1</th>\n",
       "      <th>PLZ8_ANTG2</th>\n",
       "      <th>PLZ8_ANTG3</th>\n",
       "      <th>PLZ8_ANTG4</th>\n",
       "      <th>PLZ8_BAUMAX</th>\n",
       "      <th>PLZ8_HHZ</th>\n",
       "      <th>PLZ8_GBZ</th>\n",
       "      <th>ARBEIT</th>\n",
       "      <th>ORTSGR_KLS9</th>\n",
       "      <th>RELAT_AB</th>\n",
       "    </tr>\n",
       "  </thead>\n",
       "  <tbody>\n",
       "    <tr>\n",
       "      <th>count</th>\n",
       "      <td>891221.000000</td>\n",
       "      <td>891221.000000</td>\n",
       "      <td>891221.000000</td>\n",
       "      <td>886367.000000</td>\n",
       "      <td>891221.000000</td>\n",
       "      <td>891221.000000</td>\n",
       "      <td>891221.000000</td>\n",
       "      <td>891221.000000</td>\n",
       "      <td>891221.000000</td>\n",
       "      <td>891221.000000</td>\n",
       "      <td>...</td>\n",
       "      <td>774706.000000</td>\n",
       "      <td>774706.000000</td>\n",
       "      <td>774706.000000</td>\n",
       "      <td>774706.000000</td>\n",
       "      <td>774706.000000</td>\n",
       "      <td>774706.000000</td>\n",
       "      <td>774706.000000</td>\n",
       "      <td>794005.000000</td>\n",
       "      <td>794005.000000</td>\n",
       "      <td>794005.00000</td>\n",
       "    </tr>\n",
       "    <tr>\n",
       "      <th>mean</th>\n",
       "      <td>-0.358435</td>\n",
       "      <td>2.777398</td>\n",
       "      <td>1.522098</td>\n",
       "      <td>3.632838</td>\n",
       "      <td>3.074528</td>\n",
       "      <td>2.821039</td>\n",
       "      <td>3.401106</td>\n",
       "      <td>3.033328</td>\n",
       "      <td>2.874167</td>\n",
       "      <td>3.075121</td>\n",
       "      <td>...</td>\n",
       "      <td>2.253330</td>\n",
       "      <td>2.801858</td>\n",
       "      <td>1.595426</td>\n",
       "      <td>0.699166</td>\n",
       "      <td>1.943913</td>\n",
       "      <td>3.612821</td>\n",
       "      <td>3.381087</td>\n",
       "      <td>3.167854</td>\n",
       "      <td>5.293002</td>\n",
       "      <td>3.07222</td>\n",
       "    </tr>\n",
       "    <tr>\n",
       "      <th>std</th>\n",
       "      <td>1.198724</td>\n",
       "      <td>1.068775</td>\n",
       "      <td>0.499512</td>\n",
       "      <td>1.595021</td>\n",
       "      <td>1.321055</td>\n",
       "      <td>1.464749</td>\n",
       "      <td>1.322134</td>\n",
       "      <td>1.529603</td>\n",
       "      <td>1.486731</td>\n",
       "      <td>1.353248</td>\n",
       "      <td>...</td>\n",
       "      <td>0.972008</td>\n",
       "      <td>0.920309</td>\n",
       "      <td>0.986736</td>\n",
       "      <td>0.727137</td>\n",
       "      <td>1.459654</td>\n",
       "      <td>0.973967</td>\n",
       "      <td>1.111598</td>\n",
       "      <td>1.002376</td>\n",
       "      <td>2.303739</td>\n",
       "      <td>1.36298</td>\n",
       "    </tr>\n",
       "    <tr>\n",
       "      <th>min</th>\n",
       "      <td>-1.000000</td>\n",
       "      <td>1.000000</td>\n",
       "      <td>1.000000</td>\n",
       "      <td>1.000000</td>\n",
       "      <td>1.000000</td>\n",
       "      <td>1.000000</td>\n",
       "      <td>1.000000</td>\n",
       "      <td>1.000000</td>\n",
       "      <td>1.000000</td>\n",
       "      <td>1.000000</td>\n",
       "      <td>...</td>\n",
       "      <td>0.000000</td>\n",
       "      <td>0.000000</td>\n",
       "      <td>0.000000</td>\n",
       "      <td>0.000000</td>\n",
       "      <td>1.000000</td>\n",
       "      <td>1.000000</td>\n",
       "      <td>1.000000</td>\n",
       "      <td>1.000000</td>\n",
       "      <td>0.000000</td>\n",
       "      <td>1.00000</td>\n",
       "    </tr>\n",
       "    <tr>\n",
       "      <th>25%</th>\n",
       "      <td>-1.000000</td>\n",
       "      <td>2.000000</td>\n",
       "      <td>1.000000</td>\n",
       "      <td>2.000000</td>\n",
       "      <td>2.000000</td>\n",
       "      <td>1.000000</td>\n",
       "      <td>3.000000</td>\n",
       "      <td>2.000000</td>\n",
       "      <td>2.000000</td>\n",
       "      <td>2.000000</td>\n",
       "      <td>...</td>\n",
       "      <td>1.000000</td>\n",
       "      <td>2.000000</td>\n",
       "      <td>1.000000</td>\n",
       "      <td>0.000000</td>\n",
       "      <td>1.000000</td>\n",
       "      <td>3.000000</td>\n",
       "      <td>3.000000</td>\n",
       "      <td>3.000000</td>\n",
       "      <td>4.000000</td>\n",
       "      <td>2.00000</td>\n",
       "    </tr>\n",
       "    <tr>\n",
       "      <th>50%</th>\n",
       "      <td>-1.000000</td>\n",
       "      <td>3.000000</td>\n",
       "      <td>2.000000</td>\n",
       "      <td>4.000000</td>\n",
       "      <td>3.000000</td>\n",
       "      <td>3.000000</td>\n",
       "      <td>3.000000</td>\n",
       "      <td>3.000000</td>\n",
       "      <td>3.000000</td>\n",
       "      <td>3.000000</td>\n",
       "      <td>...</td>\n",
       "      <td>2.000000</td>\n",
       "      <td>3.000000</td>\n",
       "      <td>2.000000</td>\n",
       "      <td>1.000000</td>\n",
       "      <td>1.000000</td>\n",
       "      <td>4.000000</td>\n",
       "      <td>3.000000</td>\n",
       "      <td>3.000000</td>\n",
       "      <td>5.000000</td>\n",
       "      <td>3.00000</td>\n",
       "    </tr>\n",
       "    <tr>\n",
       "      <th>75%</th>\n",
       "      <td>-1.000000</td>\n",
       "      <td>4.000000</td>\n",
       "      <td>2.000000</td>\n",
       "      <td>5.000000</td>\n",
       "      <td>4.000000</td>\n",
       "      <td>4.000000</td>\n",
       "      <td>5.000000</td>\n",
       "      <td>5.000000</td>\n",
       "      <td>4.000000</td>\n",
       "      <td>4.000000</td>\n",
       "      <td>...</td>\n",
       "      <td>3.000000</td>\n",
       "      <td>3.000000</td>\n",
       "      <td>2.000000</td>\n",
       "      <td>1.000000</td>\n",
       "      <td>3.000000</td>\n",
       "      <td>4.000000</td>\n",
       "      <td>4.000000</td>\n",
       "      <td>4.000000</td>\n",
       "      <td>7.000000</td>\n",
       "      <td>4.00000</td>\n",
       "    </tr>\n",
       "    <tr>\n",
       "      <th>max</th>\n",
       "      <td>3.000000</td>\n",
       "      <td>9.000000</td>\n",
       "      <td>2.000000</td>\n",
       "      <td>6.000000</td>\n",
       "      <td>5.000000</td>\n",
       "      <td>5.000000</td>\n",
       "      <td>5.000000</td>\n",
       "      <td>5.000000</td>\n",
       "      <td>5.000000</td>\n",
       "      <td>5.000000</td>\n",
       "      <td>...</td>\n",
       "      <td>4.000000</td>\n",
       "      <td>4.000000</td>\n",
       "      <td>3.000000</td>\n",
       "      <td>2.000000</td>\n",
       "      <td>5.000000</td>\n",
       "      <td>5.000000</td>\n",
       "      <td>5.000000</td>\n",
       "      <td>9.000000</td>\n",
       "      <td>9.000000</td>\n",
       "      <td>9.00000</td>\n",
       "    </tr>\n",
       "  </tbody>\n",
       "</table>\n",
       "<p>8 rows × 81 columns</p>\n",
       "</div>"
      ],
      "text/plain": [
       "            AGER_TYP  ALTERSKATEGORIE_GROB      ANREDE_KZ  CJT_GESAMTTYP  \\\n",
       "count  891221.000000         891221.000000  891221.000000  886367.000000   \n",
       "mean       -0.358435              2.777398       1.522098       3.632838   \n",
       "std         1.198724              1.068775       0.499512       1.595021   \n",
       "min        -1.000000              1.000000       1.000000       1.000000   \n",
       "25%        -1.000000              2.000000       1.000000       2.000000   \n",
       "50%        -1.000000              3.000000       2.000000       4.000000   \n",
       "75%        -1.000000              4.000000       2.000000       5.000000   \n",
       "max         3.000000              9.000000       2.000000       6.000000   \n",
       "\n",
       "       FINANZ_MINIMALIST  FINANZ_SPARER  FINANZ_VORSORGER  FINANZ_ANLEGER  \\\n",
       "count      891221.000000  891221.000000     891221.000000   891221.000000   \n",
       "mean            3.074528       2.821039          3.401106        3.033328   \n",
       "std             1.321055       1.464749          1.322134        1.529603   \n",
       "min             1.000000       1.000000          1.000000        1.000000   \n",
       "25%             2.000000       1.000000          3.000000        2.000000   \n",
       "50%             3.000000       3.000000          3.000000        3.000000   \n",
       "75%             4.000000       4.000000          5.000000        5.000000   \n",
       "max             5.000000       5.000000          5.000000        5.000000   \n",
       "\n",
       "       FINANZ_UNAUFFAELLIGER  FINANZ_HAUSBAUER  ...     PLZ8_ANTG1  \\\n",
       "count          891221.000000     891221.000000  ...  774706.000000   \n",
       "mean                2.874167          3.075121  ...       2.253330   \n",
       "std                 1.486731          1.353248  ...       0.972008   \n",
       "min                 1.000000          1.000000  ...       0.000000   \n",
       "25%                 2.000000          2.000000  ...       1.000000   \n",
       "50%                 3.000000          3.000000  ...       2.000000   \n",
       "75%                 4.000000          4.000000  ...       3.000000   \n",
       "max                 5.000000          5.000000  ...       4.000000   \n",
       "\n",
       "          PLZ8_ANTG2     PLZ8_ANTG3     PLZ8_ANTG4    PLZ8_BAUMAX  \\\n",
       "count  774706.000000  774706.000000  774706.000000  774706.000000   \n",
       "mean        2.801858       1.595426       0.699166       1.943913   \n",
       "std         0.920309       0.986736       0.727137       1.459654   \n",
       "min         0.000000       0.000000       0.000000       1.000000   \n",
       "25%         2.000000       1.000000       0.000000       1.000000   \n",
       "50%         3.000000       2.000000       1.000000       1.000000   \n",
       "75%         3.000000       2.000000       1.000000       3.000000   \n",
       "max         4.000000       3.000000       2.000000       5.000000   \n",
       "\n",
       "            PLZ8_HHZ       PLZ8_GBZ         ARBEIT    ORTSGR_KLS9  \\\n",
       "count  774706.000000  774706.000000  794005.000000  794005.000000   \n",
       "mean        3.612821       3.381087       3.167854       5.293002   \n",
       "std         0.973967       1.111598       1.002376       2.303739   \n",
       "min         1.000000       1.000000       1.000000       0.000000   \n",
       "25%         3.000000       3.000000       3.000000       4.000000   \n",
       "50%         4.000000       3.000000       3.000000       5.000000   \n",
       "75%         4.000000       4.000000       4.000000       7.000000   \n",
       "max         5.000000       5.000000       9.000000       9.000000   \n",
       "\n",
       "           RELAT_AB  \n",
       "count  794005.00000  \n",
       "mean        3.07222  \n",
       "std         1.36298  \n",
       "min         1.00000  \n",
       "25%         2.00000  \n",
       "50%         3.00000  \n",
       "75%         4.00000  \n",
       "max         9.00000  \n",
       "\n",
       "[8 rows x 81 columns]"
      ]
     },
     "execution_count": 4,
     "metadata": {},
     "output_type": "execute_result"
    }
   ],
   "source": [
    "azdias.describe()"
   ]
  },
  {
   "cell_type": "code",
   "execution_count": 5,
   "metadata": {},
   "outputs": [
    {
     "name": "stdout",
     "output_type": "stream",
     "text": [
      "  Feature                   No NaNs   NaNs      Total     % NaNs    Drop      \n",
      "-----------------------------------------------------------------\n",
      " 0 AGER_TYP                  891,221         0   891,221   00.00%    No  \n",
      " 1 ALTERSKATEGORIE_GROB      891,221         0   891,221   00.00%    No  \n",
      " 2 ANREDE_KZ                 891,221         0   891,221   00.00%    No  \n",
      " 3 CJT_GESAMTTYP             886,367     4,854   891,221   00.54%    No  \n",
      " 4 FINANZ_MINIMALIST         891,221         0   891,221   00.00%    No  \n",
      " 5 FINANZ_SPARER             891,221         0   891,221   00.00%    No  \n",
      " 6 FINANZ_VORSORGER          891,221         0   891,221   00.00%    No  \n",
      " 7 FINANZ_ANLEGER            891,221         0   891,221   00.00%    No  \n",
      " 8 FINANZ_UNAUFFAELLIGER     891,221         0   891,221   00.00%    No  \n",
      " 9 FINANZ_HAUSBAUER          891,221         0   891,221   00.00%    No  \n",
      "10 FINANZTYP                 891,221         0   891,221   00.00%    No  \n",
      "11 GEBURTSJAHR               891,221         0   891,221   00.00%    No  \n",
      "12 GFK_URLAUBERTYP           886,367     4,854   891,221   00.54%    No  \n",
      "13 GREEN_AVANTGARDE          891,221         0   891,221   00.00%    No  \n",
      "14 HEALTH_TYP                891,221         0   891,221   00.00%    No  \n",
      "15 LP_LEBENSPHASE_FEIN       886,367     4,854   891,221   00.54%    No  \n",
      "16 LP_LEBENSPHASE_GROB       886,367     4,854   891,221   00.54%    No  \n",
      "17 LP_FAMILIE_FEIN           886,367     4,854   891,221   00.54%    No  \n",
      "18 LP_FAMILIE_GROB           886,367     4,854   891,221   00.54%    No  \n",
      "19 LP_STATUS_FEIN            886,367     4,854   891,221   00.54%    No  \n",
      "20 LP_STATUS_GROB            886,367     4,854   891,221   00.54%    No  \n",
      "21 NATIONALITAET_KZ          891,221         0   891,221   00.00%    No  \n",
      "22 PRAEGENDE_JUGENDJAHRE     891,221         0   891,221   00.00%    No  \n",
      "23 RETOURTYP_BK_S            886,367     4,854   891,221   00.54%    No  \n",
      "24 SEMIO_SOZ                 891,221         0   891,221   00.00%    No  \n",
      "25 SEMIO_FAM                 891,221         0   891,221   00.00%    No  \n",
      "26 SEMIO_REL                 891,221         0   891,221   00.00%    No  \n",
      "27 SEMIO_MAT                 891,221         0   891,221   00.00%    No  \n",
      "28 SEMIO_VERT                891,221         0   891,221   00.00%    No  \n",
      "29 SEMIO_LUST                891,221         0   891,221   00.00%    No  \n",
      "30 SEMIO_ERL                 891,221         0   891,221   00.00%    No  \n",
      "31 SEMIO_KULT                891,221         0   891,221   00.00%    No  \n",
      "32 SEMIO_RAT                 891,221         0   891,221   00.00%    No  \n",
      "33 SEMIO_KRIT                891,221         0   891,221   00.00%    No  \n",
      "34 SEMIO_DOM                 891,221         0   891,221   00.00%    No  \n",
      "35 SEMIO_KAEM                891,221         0   891,221   00.00%    No  \n",
      "36 SEMIO_PFLICHT             891,221         0   891,221   00.00%    No  \n",
      "37 SEMIO_TRADV               891,221         0   891,221   00.00%    No  \n",
      "38 SHOPPER_TYP               891,221         0   891,221   00.00%    No  \n",
      "39 SOHO_KZ                   817,722    73,499   891,221   08.25%    No  \n",
      "40 TITEL_KZ                  817,722    73,499   891,221   08.25%    No  \n",
      "41 VERS_TYP                  891,221         0   891,221   00.00%    No  \n",
      "42 ZABEOTYP                  891,221         0   891,221   00.00%    No  \n",
      "43 ALTER_HH                  817,722    73,499   891,221   08.25%    No  \n",
      "44 ANZ_PERSONEN              817,722    73,499   891,221   08.25%    No  \n",
      "45 ANZ_TITEL                 817,722    73,499   891,221   08.25%    No  \n",
      "46 HH_EINKOMMEN_SCORE        872,873    18,348   891,221   02.06%    No  \n",
      "47 KK_KUNDENTYP              306,609   584,612   891,221   65.60%    Yes \n",
      "48 W_KEIT_KIND_HH            783,619   107,602   891,221   12.07%    No  \n",
      "49 WOHNDAUER_2008            817,722    73,499   891,221   08.25%    No  \n",
      "50 ANZ_HAUSHALTE_AKTIV       798,073    93,148   891,221   10.45%    No  \n",
      "51 ANZ_HH_TITEL              794,213    97,008   891,221   10.88%    No  \n",
      "52 GEBAEUDETYP               798,073    93,148   891,221   10.45%    No  \n",
      "53 KONSUMNAEHE               817,252    73,969   891,221   08.30%    No  \n",
      "54 MIN_GEBAEUDEJAHR          798,073    93,148   891,221   10.45%    No  \n",
      "55 OST_WEST_KZ               798,073    93,148   891,221   10.45%    No  \n",
      "56 WOHNLAGE                  798,073    93,148   891,221   10.45%    No  \n",
      "57 CAMEO_DEUG_2015           792,242    98,979   891,221   11.11%    No  \n",
      "58 CAMEO_DEU_2015            792,242    98,979   891,221   11.11%    No  \n",
      "59 CAMEO_INTL_2015           792,242    98,979   891,221   11.11%    No  \n",
      "60 KBA05_ANTG1               757,897   133,324   891,221   14.96%    No  \n",
      "61 KBA05_ANTG2               757,897   133,324   891,221   14.96%    No  \n",
      "62 KBA05_ANTG3               757,897   133,324   891,221   14.96%    No  \n",
      "63 KBA05_ANTG4               757,897   133,324   891,221   14.96%    No  \n",
      "64 KBA05_BAUMAX              757,897   133,324   891,221   14.96%    No  \n",
      "65 KBA05_GBZ                 757,897   133,324   891,221   14.96%    No  \n",
      "66 BALLRAUM                  797,481    93,740   891,221   10.52%    No  \n",
      "67 EWDICHTE                  797,481    93,740   891,221   10.52%    No  \n",
      "68 INNENSTADT                797,481    93,740   891,221   10.52%    No  \n",
      "69 GEBAEUDETYP_RASTER        798,066    93,155   891,221   10.45%    No  \n",
      "70 KKK                       770,025   121,196   891,221   13.60%    No  \n",
      "71 MOBI_REGIO                757,897   133,324   891,221   14.96%    No  \n",
      "72 ONLINE_AFFINITAET         886,367     4,854   891,221   00.54%    No  \n",
      "73 REGIOTYP                  770,025   121,196   891,221   13.60%    No  \n",
      "74 KBA13_ANZAHL_PKW          785,421   105,800   891,221   11.87%    No  \n",
      "75 PLZ8_ANTG1                774,706   116,515   891,221   13.07%    No  \n",
      "76 PLZ8_ANTG2                774,706   116,515   891,221   13.07%    No  \n",
      "77 PLZ8_ANTG3                774,706   116,515   891,221   13.07%    No  \n",
      "78 PLZ8_ANTG4                774,706   116,515   891,221   13.07%    No  \n",
      "79 PLZ8_BAUMAX               774,706   116,515   891,221   13.07%    No  \n",
      "80 PLZ8_HHZ                  774,706   116,515   891,221   13.07%    No  \n",
      "81 PLZ8_GBZ                  774,706   116,515   891,221   13.07%    No  \n",
      "82 ARBEIT                    794,005    97,216   891,221   10.91%    No  \n",
      "83 ORTSGR_KLS9               794,005    97,216   891,221   10.91%    No  \n",
      "84 RELAT_AB                  794,005    97,216   891,221   10.91%    No  \n"
     ]
    }
   ],
   "source": [
    "# Print number of null values, percentage per column. Also, display a column 'drop' as possible candidate to be dropped\n",
    "def count_nulls(dframe, threshold):\n",
    "    print('  {:26}{:10}{:10}{:10}{:10}{:10}'.format('Feature','No NaNs','NaNs','Total','% NaNs','Drop'))\n",
    "    print('{:30}'.format('-----------------------------------------------------------------'))\n",
    "    obj = dframe.isna().sum()\n",
    "    i = 0\n",
    "    for key,value in obj.iteritems():\n",
    "        no_nan_values = dframe[key].count()\n",
    "        total = no_nan_values + value\n",
    "        percentage_nan = value / total\n",
    "        drop = 'No'\n",
    "        if percentage_nan >= threshold:\n",
    "            drop = 'Yes'            \n",
    "        \n",
    "        print('{:2} {:23}{:10,}{:10,}{:10,}   {:05.2f}%    {:4}'.format(i, key, no_nan_values, value, total, float(percentage_nan)*100, drop))\n",
    "        i += 1\n",
    "count_nulls(azdias, 0.4)"
   ]
  },
  {
   "cell_type": "code",
   "execution_count": 6,
   "metadata": {},
   "outputs": [
    {
     "name": "stdout",
     "output_type": "stream",
     "text": [
      "feat_info\n",
      "rows:  85 \n",
      "columns:  4\n"
     ]
    },
    {
     "data": {
      "text/html": [
       "<div>\n",
       "<style scoped>\n",
       "    .dataframe tbody tr th:only-of-type {\n",
       "        vertical-align: middle;\n",
       "    }\n",
       "\n",
       "    .dataframe tbody tr th {\n",
       "        vertical-align: top;\n",
       "    }\n",
       "\n",
       "    .dataframe thead th {\n",
       "        text-align: right;\n",
       "    }\n",
       "</style>\n",
       "<table border=\"1\" class=\"dataframe\">\n",
       "  <thead>\n",
       "    <tr style=\"text-align: right;\">\n",
       "      <th></th>\n",
       "      <th>attribute</th>\n",
       "      <th>information_level</th>\n",
       "      <th>type</th>\n",
       "      <th>missing_or_unknown</th>\n",
       "    </tr>\n",
       "  </thead>\n",
       "  <tbody>\n",
       "    <tr>\n",
       "      <th>0</th>\n",
       "      <td>AGER_TYP</td>\n",
       "      <td>person</td>\n",
       "      <td>categorical</td>\n",
       "      <td>[-1,0]</td>\n",
       "    </tr>\n",
       "    <tr>\n",
       "      <th>1</th>\n",
       "      <td>ALTERSKATEGORIE_GROB</td>\n",
       "      <td>person</td>\n",
       "      <td>ordinal</td>\n",
       "      <td>[-1,0,9]</td>\n",
       "    </tr>\n",
       "    <tr>\n",
       "      <th>2</th>\n",
       "      <td>ANREDE_KZ</td>\n",
       "      <td>person</td>\n",
       "      <td>categorical</td>\n",
       "      <td>[-1,0]</td>\n",
       "    </tr>\n",
       "    <tr>\n",
       "      <th>3</th>\n",
       "      <td>CJT_GESAMTTYP</td>\n",
       "      <td>person</td>\n",
       "      <td>categorical</td>\n",
       "      <td>[0]</td>\n",
       "    </tr>\n",
       "    <tr>\n",
       "      <th>4</th>\n",
       "      <td>FINANZ_MINIMALIST</td>\n",
       "      <td>person</td>\n",
       "      <td>ordinal</td>\n",
       "      <td>[-1]</td>\n",
       "    </tr>\n",
       "  </tbody>\n",
       "</table>\n",
       "</div>"
      ],
      "text/plain": [
       "              attribute information_level         type missing_or_unknown\n",
       "0              AGER_TYP            person  categorical             [-1,0]\n",
       "1  ALTERSKATEGORIE_GROB            person      ordinal           [-1,0,9]\n",
       "2             ANREDE_KZ            person  categorical             [-1,0]\n",
       "3         CJT_GESAMTTYP            person  categorical                [0]\n",
       "4     FINANZ_MINIMALIST            person      ordinal               [-1]"
      ]
     },
     "execution_count": 6,
     "metadata": {},
     "output_type": "execute_result"
    }
   ],
   "source": [
    "# Check the structure of the data after it's loaded (e.g. print the number of\n",
    "# rows and columns, print the first few rows).\n",
    "\n",
    "print('feat_info\\nrows: ',feat_info.shape[0], '\\ncolumns: ', feat_info.shape[1])\n",
    "feat_info.head()"
   ]
  },
  {
   "cell_type": "markdown",
   "metadata": {
    "colab_type": "text",
    "id": "dFbgZKWJ--zm"
   },
   "source": [
    "> **Tip**: Add additional cells to keep everything in reasonably-sized chunks! Keyboard shortcut `esc --> a` (press escape to enter command mode, then press the 'A' key) adds a new cell before the active cell, and `esc --> b` adds a new cell after the active cell. If you need to convert an active cell to a markdown cell, use `esc --> m` and to convert to a code cell, use `esc --> y`. \n",
    "\n",
    "## Step 1: Preprocessing\n",
    "\n",
    "### Step 1.1: Assess Missing Data\n",
    "\n",
    "The feature summary file contains a summary of properties for each demographics data column. You will use this file to help you make cleaning decisions during this stage of the project. First of all, you should assess the demographics data in terms of missing data. Pay attention to the following points as you perform your analysis, and take notes on what you observe. Make sure that you fill in the **Discussion** cell with your findings and decisions at the end of each step that has one!\n",
    "\n",
    "#### Step 1.1.1: Convert Missing Value Codes to NaNs\n",
    "The fourth column of the feature attributes summary (loaded in above as `feat_info`) documents the codes from the data dictionary that indicate missing or unknown data. While the file encodes this as a list (e.g. `[-1,0]`), this will get read in as a string object. You'll need to do a little bit of parsing to make use of it to identify and clean the data. Convert data that matches a 'missing' or 'unknown' value code into a numpy NaN value. You might want to see how much data takes on a 'missing' or 'unknown' code, and how much data is naturally missing, as a point of interest.\n",
    "\n",
    "**As one more reminder, you are encouraged to add additional cells to break up your analysis into manageable chunks.**"
   ]
  },
  {
   "cell_type": "code",
   "execution_count": 7,
   "metadata": {},
   "outputs": [],
   "source": [
    "# clean the string of missing values coming from Feature dictionary and returns whatever is inside of\n",
    "# '[]' as a list splitted by ','\n",
    "def split_target_values(string, d_type):\n",
    "    start = string.find('[')\n",
    "    end = string.find(']')\n",
    "    string = string[start+1:end].split(',')\n",
    "    empty = False\n",
    "\n",
    "    if len(string) == 1 and string[0] == '':\n",
    "        empty = True\n",
    "\n",
    "    return string, empty"
   ]
  },
  {
   "cell_type": "code",
   "execution_count": 8,
   "metadata": {},
   "outputs": [
    {
     "name": "stdout",
     "output_type": "stream",
     "text": [
      "AGER_TYP                  Value -1, Found   677503, Replaced   677503\n",
      "AGER_TYP                  Value  0, Found     8340, Replaced     8340\n",
      "ALTERSKATEGORIE_GROB      Value -1, Found        0, Replaced        0\n",
      "ALTERSKATEGORIE_GROB      Value  0, Found        0, Replaced        0\n",
      "ALTERSKATEGORIE_GROB      Value  9, Found     2881, Replaced     2881\n",
      "ANREDE_KZ                 Value -1, Found        0, Replaced        0\n",
      "ANREDE_KZ                 Value  0, Found        0, Replaced        0\n",
      "CJT_GESAMTTYP             Value  0, Found        0, Replaced        0\n",
      "FINANZ_MINIMALIST         Value -1, Found        0, Replaced        0\n",
      "FINANZ_SPARER             Value -1, Found        0, Replaced        0\n",
      "FINANZ_VORSORGER          Value -1, Found        0, Replaced        0\n",
      "FINANZ_ANLEGER            Value -1, Found        0, Replaced        0\n",
      "FINANZ_UNAUFFAELLIGER     Value -1, Found        0, Replaced        0\n",
      "FINANZ_HAUSBAUER          Value -1, Found        0, Replaced        0\n",
      "FINANZTYP                 Value -1, Found        0, Replaced        0\n",
      "GEBURTSJAHR               Value  0, Found   392318, Replaced   392318\n",
      "HEALTH_TYP                Value -1, Found   111196, Replaced   111196\n",
      "HEALTH_TYP                Value  0, Found        0, Replaced        0\n",
      "LP_LEBENSPHASE_FEIN       Value  0, Found    92778, Replaced    92778\n",
      "LP_LEBENSPHASE_GROB       Value  0, Found    89718, Replaced    89718\n",
      "LP_FAMILIE_FEIN           Value  0, Found    72938, Replaced    72938\n",
      "LP_FAMILIE_GROB           Value  0, Found    72938, Replaced    72938\n",
      "LP_STATUS_FEIN            Value  0, Found        0, Replaced        0\n",
      "LP_STATUS_GROB            Value  0, Found        0, Replaced        0\n",
      "NATIONALITAET_KZ          Value -1, Found        0, Replaced        0\n",
      "NATIONALITAET_KZ          Value  0, Found   108315, Replaced   108315\n",
      "PRAEGENDE_JUGENDJAHRE     Value -1, Found        0, Replaced        0\n",
      "PRAEGENDE_JUGENDJAHRE     Value  0, Found   108164, Replaced   108164\n",
      "RETOURTYP_BK_S            Value  0, Found        0, Replaced        0\n",
      "SEMIO_SOZ                 Value -1, Found        0, Replaced        0\n",
      "SEMIO_SOZ                 Value  9, Found        0, Replaced        0\n",
      "SEMIO_FAM                 Value -1, Found        0, Replaced        0\n",
      "SEMIO_FAM                 Value  9, Found        0, Replaced        0\n",
      "SEMIO_REL                 Value -1, Found        0, Replaced        0\n",
      "SEMIO_REL                 Value  9, Found        0, Replaced        0\n",
      "SEMIO_MAT                 Value -1, Found        0, Replaced        0\n",
      "SEMIO_MAT                 Value  9, Found        0, Replaced        0\n",
      "SEMIO_VERT                Value -1, Found        0, Replaced        0\n",
      "SEMIO_VERT                Value  9, Found        0, Replaced        0\n",
      "SEMIO_LUST                Value -1, Found        0, Replaced        0\n",
      "SEMIO_LUST                Value  9, Found        0, Replaced        0\n",
      "SEMIO_ERL                 Value -1, Found        0, Replaced        0\n",
      "SEMIO_ERL                 Value  9, Found        0, Replaced        0\n",
      "SEMIO_KULT                Value -1, Found        0, Replaced        0\n",
      "SEMIO_KULT                Value  9, Found        0, Replaced        0\n",
      "SEMIO_RAT                 Value -1, Found        0, Replaced        0\n",
      "SEMIO_RAT                 Value  9, Found        0, Replaced        0\n",
      "SEMIO_KRIT                Value -1, Found        0, Replaced        0\n",
      "SEMIO_KRIT                Value  9, Found        0, Replaced        0\n",
      "SEMIO_DOM                 Value -1, Found        0, Replaced        0\n",
      "SEMIO_DOM                 Value  9, Found        0, Replaced        0\n",
      "SEMIO_KAEM                Value -1, Found        0, Replaced        0\n",
      "SEMIO_KAEM                Value  9, Found        0, Replaced        0\n",
      "SEMIO_PFLICHT             Value -1, Found        0, Replaced        0\n",
      "SEMIO_PFLICHT             Value  9, Found        0, Replaced        0\n",
      "SEMIO_TRADV               Value -1, Found        0, Replaced        0\n",
      "SEMIO_TRADV               Value  9, Found        0, Replaced        0\n",
      "SHOPPER_TYP               Value -1, Found   111196, Replaced   111196\n",
      "SOHO_KZ                   Value -1, Found        0, Replaced        0\n",
      "TITEL_KZ                  Value -1, Found        0, Replaced        0\n",
      "TITEL_KZ                  Value  0, Found   815562, Replaced   815562\n",
      "VERS_TYP                  Value -1, Found   111196, Replaced   111196\n",
      "ZABEOTYP                  Value -1, Found        0, Replaced        0\n",
      "ZABEOTYP                  Value  9, Found        0, Replaced        0\n",
      "ALTER_HH                  Value  0, Found   236768, Replaced   236768\n",
      "HH_EINKOMMEN_SCORE        Value -1, Found        0, Replaced        0\n",
      "HH_EINKOMMEN_SCORE        Value  0, Found        0, Replaced        0\n",
      "KK_KUNDENTYP              Value -1, Found        0, Replaced        0\n",
      "W_KEIT_KIND_HH            Value -1, Found        0, Replaced        0\n",
      "W_KEIT_KIND_HH            Value  0, Found    40386, Replaced    40386\n",
      "WOHNDAUER_2008            Value -1, Found        0, Replaced        0\n",
      "WOHNDAUER_2008            Value  0, Found        0, Replaced        0\n",
      "ANZ_HAUSHALTE_AKTIV       Value  0, Found     6463, Replaced     6463\n",
      "GEBAEUDETYP               Value -1, Found        0, Replaced        0\n",
      "GEBAEUDETYP               Value  0, Found        0, Replaced        0\n",
      "MIN_GEBAEUDEJAHR          Value  0, Found        0, Replaced        0\n",
      "OST_WEST_KZ               Value -1, Found        0, Replaced        0\n",
      "WOHNLAGE                  Value -1, Found        0, Replaced        0\n",
      "CAMEO_DEUG_2015           Value -1, Found        0, Replaced        0\n",
      "CAMEO_DEUG_2015           Value X , Found      373, Replaced      373\n",
      "CAMEO_DEU_2015            Value XX, Found      373, Replaced      373\n",
      "CAMEO_INTL_2015           Value -1, Found        0, Replaced        0\n",
      "CAMEO_INTL_2015           Value XX, Found      373, Replaced      373\n",
      "KBA05_ANTG1               Value -1, Found        0, Replaced        0\n",
      "KBA05_ANTG2               Value -1, Found        0, Replaced        0\n",
      "KBA05_ANTG3               Value -1, Found        0, Replaced        0\n",
      "KBA05_ANTG4               Value -1, Found        0, Replaced        0\n",
      "KBA05_BAUMAX              Value -1, Found        0, Replaced        0\n",
      "KBA05_BAUMAX              Value  0, Found   343200, Replaced   343200\n",
      "KBA05_GBZ                 Value -1, Found        0, Replaced        0\n",
      "KBA05_GBZ                 Value  0, Found        0, Replaced        0\n",
      "BALLRAUM                  Value -1, Found        0, Replaced        0\n",
      "EWDICHTE                  Value -1, Found        0, Replaced        0\n",
      "INNENSTADT                Value -1, Found        0, Replaced        0\n",
      "KKK                       Value -1, Found        0, Replaced        0\n",
      "KKK                       Value  0, Found    36868, Replaced    36868\n",
      "REGIOTYP                  Value -1, Found        0, Replaced        0\n",
      "REGIOTYP                  Value  0, Found    36868, Replaced    36868\n",
      "PLZ8_ANTG1                Value -1, Found        0, Replaced        0\n",
      "PLZ8_ANTG2                Value -1, Found        0, Replaced        0\n",
      "PLZ8_ANTG3                Value -1, Found        0, Replaced        0\n",
      "PLZ8_ANTG4                Value -1, Found        0, Replaced        0\n",
      "PLZ8_BAUMAX               Value -1, Found        0, Replaced        0\n",
      "PLZ8_BAUMAX               Value  0, Found        0, Replaced        0\n",
      "PLZ8_HHZ                  Value -1, Found        0, Replaced        0\n",
      "PLZ8_GBZ                  Value -1, Found        0, Replaced        0\n",
      "ARBEIT                    Value -1, Found        0, Replaced        0\n",
      "ARBEIT                    Value  9, Found      159, Replaced      159\n",
      "ORTSGR_KLS9               Value -1, Found        0, Replaced        0\n",
      "ORTSGR_KLS9               Value  0, Found       58, Replaced       58\n",
      "RELAT_AB                  Value -1, Found        0, Replaced        0\n",
      "RELAT_AB                  Value  9, Found      159, Replaced      159\n"
     ]
    }
   ],
   "source": [
    "# Identify missing or unknown data values according to AZDIAS_Feature_Summary.csv\n",
    "# and convert them to Numpy NaNs.\n",
    "\n",
    "\n",
    "empty = False\n",
    "for index, row in feat_info.iterrows():\n",
    "    feature = row.attribute\n",
    "    target_values, empty = split_target_values(row.missing_or_unknown, row.type)\n",
    "    \n",
    "    if empty == False:\n",
    "        for m in target_values:\n",
    "            try:\n",
    "                i = int(m)\n",
    "                \n",
    "            except ValueError:\n",
    "                i = m\n",
    "            dtype = azdias[feature].dtypes\n",
    "            found = (azdias[feature] == i).sum()\n",
    "            azdias[feature] = azdias[feature].astype(dtype).replace(to_replace = i, value = np.nan, inplace = False)\n",
    "            last = (azdias[feature] == i).sum()\n",
    "            print('{:25} Value {:2}, Found {:8}, Replaced {:8}'.format(feature, i, found, found-last)) "
   ]
  },
  {
   "cell_type": "markdown",
   "metadata": {
    "colab_type": "text",
    "id": "RxjU-E42--zv"
   },
   "source": [
    "#### Step 1.1.2: Assess Missing Data in Each Column\n",
    "\n",
    "How much missing data is present in each column? There are a few columns that are outliers in terms of the proportion of values that are missing. You will want to use matplotlib's [`hist()`](https://matplotlib.org/api/_as_gen/matplotlib.pyplot.hist.html) function to visualize the distribution of missing value counts to find these columns. Identify and document these columns. While some of these columns might have justifications for keeping or re-encoding the data, for this project you should just remove them from the dataframe. (Feel free to make remarks about these outlier columns in the discussion, however!)\n",
    "\n",
    "For the remaining features, are there any patterns in which columns have, or share, missing data?"
   ]
  },
  {
   "cell_type": "code",
   "execution_count": 9,
   "metadata": {},
   "outputs": [
    {
     "name": "stdout",
     "output_type": "stream",
     "text": [
      "  Feature                   No NaNs   NaNs      Total     % NaNs    Drop      \n",
      "-----------------------------------------------------------------\n",
      " 0 AGER_TYP                  205,378   685,843   891,221   76.96%    Yes \n",
      " 1 ALTERSKATEGORIE_GROB      888,340     2,881   891,221   00.32%    No  \n",
      " 2 ANREDE_KZ                 891,221         0   891,221   00.00%    No  \n",
      " 3 CJT_GESAMTTYP             886,367     4,854   891,221   00.54%    No  \n",
      " 4 FINANZ_MINIMALIST         891,221         0   891,221   00.00%    No  \n",
      " 5 FINANZ_SPARER             891,221         0   891,221   00.00%    No  \n",
      " 6 FINANZ_VORSORGER          891,221         0   891,221   00.00%    No  \n",
      " 7 FINANZ_ANLEGER            891,221         0   891,221   00.00%    No  \n",
      " 8 FINANZ_UNAUFFAELLIGER     891,221         0   891,221   00.00%    No  \n",
      " 9 FINANZ_HAUSBAUER          891,221         0   891,221   00.00%    No  \n",
      "10 FINANZTYP                 891,221         0   891,221   00.00%    No  \n",
      "11 GEBURTSJAHR               498,903   392,318   891,221   44.02%    No  \n",
      "12 GFK_URLAUBERTYP           886,367     4,854   891,221   00.54%    No  \n",
      "13 GREEN_AVANTGARDE          891,221         0   891,221   00.00%    No  \n",
      "14 HEALTH_TYP                780,025   111,196   891,221   12.48%    No  \n",
      "15 LP_LEBENSPHASE_FEIN       793,589    97,632   891,221   10.95%    No  \n",
      "16 LP_LEBENSPHASE_GROB       796,649    94,572   891,221   10.61%    No  \n",
      "17 LP_FAMILIE_FEIN           813,429    77,792   891,221   08.73%    No  \n",
      "18 LP_FAMILIE_GROB           813,429    77,792   891,221   08.73%    No  \n",
      "19 LP_STATUS_FEIN            886,367     4,854   891,221   00.54%    No  \n",
      "20 LP_STATUS_GROB            886,367     4,854   891,221   00.54%    No  \n",
      "21 NATIONALITAET_KZ          782,906   108,315   891,221   12.15%    No  \n",
      "22 PRAEGENDE_JUGENDJAHRE     783,057   108,164   891,221   12.14%    No  \n",
      "23 RETOURTYP_BK_S            886,367     4,854   891,221   00.54%    No  \n",
      "24 SEMIO_SOZ                 891,221         0   891,221   00.00%    No  \n",
      "25 SEMIO_FAM                 891,221         0   891,221   00.00%    No  \n",
      "26 SEMIO_REL                 891,221         0   891,221   00.00%    No  \n",
      "27 SEMIO_MAT                 891,221         0   891,221   00.00%    No  \n",
      "28 SEMIO_VERT                891,221         0   891,221   00.00%    No  \n",
      "29 SEMIO_LUST                891,221         0   891,221   00.00%    No  \n",
      "30 SEMIO_ERL                 891,221         0   891,221   00.00%    No  \n",
      "31 SEMIO_KULT                891,221         0   891,221   00.00%    No  \n",
      "32 SEMIO_RAT                 891,221         0   891,221   00.00%    No  \n",
      "33 SEMIO_KRIT                891,221         0   891,221   00.00%    No  \n",
      "34 SEMIO_DOM                 891,221         0   891,221   00.00%    No  \n",
      "35 SEMIO_KAEM                891,221         0   891,221   00.00%    No  \n",
      "36 SEMIO_PFLICHT             891,221         0   891,221   00.00%    No  \n",
      "37 SEMIO_TRADV               891,221         0   891,221   00.00%    No  \n",
      "38 SHOPPER_TYP               780,025   111,196   891,221   12.48%    No  \n",
      "39 SOHO_KZ                   817,722    73,499   891,221   08.25%    No  \n",
      "40 TITEL_KZ                    2,160   889,061   891,221   99.76%    Yes \n",
      "41 VERS_TYP                  780,025   111,196   891,221   12.48%    No  \n",
      "42 ZABEOTYP                  891,221         0   891,221   00.00%    No  \n",
      "43 ALTER_HH                  580,954   310,267   891,221   34.81%    No  \n",
      "44 ANZ_PERSONEN              817,722    73,499   891,221   08.25%    No  \n",
      "45 ANZ_TITEL                 817,722    73,499   891,221   08.25%    No  \n",
      "46 HH_EINKOMMEN_SCORE        872,873    18,348   891,221   02.06%    No  \n",
      "47 KK_KUNDENTYP              306,609   584,612   891,221   65.60%    Yes \n",
      "48 W_KEIT_KIND_HH            743,233   147,988   891,221   16.61%    No  \n",
      "49 WOHNDAUER_2008            817,722    73,499   891,221   08.25%    No  \n",
      "50 ANZ_HAUSHALTE_AKTIV       791,610    99,611   891,221   11.18%    No  \n",
      "51 ANZ_HH_TITEL              794,213    97,008   891,221   10.88%    No  \n",
      "52 GEBAEUDETYP               798,073    93,148   891,221   10.45%    No  \n",
      "53 KONSUMNAEHE               817,252    73,969   891,221   08.30%    No  \n",
      "54 MIN_GEBAEUDEJAHR          798,073    93,148   891,221   10.45%    No  \n",
      "55 OST_WEST_KZ               798,073    93,148   891,221   10.45%    No  \n",
      "56 WOHNLAGE                  798,073    93,148   891,221   10.45%    No  \n",
      "57 CAMEO_DEUG_2015           791,869    99,352   891,221   11.15%    No  \n",
      "58 CAMEO_DEU_2015            791,869    99,352   891,221   11.15%    No  \n",
      "59 CAMEO_INTL_2015           791,869    99,352   891,221   11.15%    No  \n",
      "60 KBA05_ANTG1               757,897   133,324   891,221   14.96%    No  \n",
      "61 KBA05_ANTG2               757,897   133,324   891,221   14.96%    No  \n",
      "62 KBA05_ANTG3               757,897   133,324   891,221   14.96%    No  \n",
      "63 KBA05_ANTG4               757,897   133,324   891,221   14.96%    No  \n",
      "64 KBA05_BAUMAX              414,697   476,524   891,221   53.47%    No  \n",
      "65 KBA05_GBZ                 757,897   133,324   891,221   14.96%    No  \n",
      "66 BALLRAUM                  797,481    93,740   891,221   10.52%    No  \n",
      "67 EWDICHTE                  797,481    93,740   891,221   10.52%    No  \n",
      "68 INNENSTADT                797,481    93,740   891,221   10.52%    No  \n",
      "69 GEBAEUDETYP_RASTER        798,066    93,155   891,221   10.45%    No  \n",
      "70 KKK                       733,157   158,064   891,221   17.74%    No  \n",
      "71 MOBI_REGIO                757,897   133,324   891,221   14.96%    No  \n",
      "72 ONLINE_AFFINITAET         886,367     4,854   891,221   00.54%    No  \n",
      "73 REGIOTYP                  733,157   158,064   891,221   17.74%    No  \n",
      "74 KBA13_ANZAHL_PKW          785,421   105,800   891,221   11.87%    No  \n",
      "75 PLZ8_ANTG1                774,706   116,515   891,221   13.07%    No  \n",
      "76 PLZ8_ANTG2                774,706   116,515   891,221   13.07%    No  \n",
      "77 PLZ8_ANTG3                774,706   116,515   891,221   13.07%    No  \n",
      "78 PLZ8_ANTG4                774,706   116,515   891,221   13.07%    No  \n",
      "79 PLZ8_BAUMAX               774,706   116,515   891,221   13.07%    No  \n",
      "80 PLZ8_HHZ                  774,706   116,515   891,221   13.07%    No  \n",
      "81 PLZ8_GBZ                  774,706   116,515   891,221   13.07%    No  \n",
      "82 ARBEIT                    793,846    97,375   891,221   10.93%    No  \n",
      "83 ORTSGR_KLS9               793,947    97,274   891,221   10.91%    No  \n",
      "84 RELAT_AB                  793,846    97,375   891,221   10.93%    No  \n"
     ]
    }
   ],
   "source": [
    "# Check for Nans after applied replacement, also function receive a threshold percentage to mark columns candidates to be dropped.\n",
    "# In this case, columns with 40% or more missing values are marked to be dropped\n",
    "\n",
    "count_nulls(azdias, 0.65)"
   ]
  },
  {
   "cell_type": "code",
   "execution_count": 10,
   "metadata": {},
   "outputs": [],
   "source": [
    "# Histogram of most relevant variable to investage given the high percentage of missing values\n",
    "\n",
    "def dataframe_hist(dataframe, rows, columns, interesting_cols):\n",
    "    col_names = list(dataframe.columns[interesting_cols]) \n",
    "    fig = plt.figure(figsize=(27,15))\n",
    "    i = 1\n",
    "    # nan_values = 0\n",
    "    for e in col_names:\n",
    "        plt.subplot(rows, columns, i)\n",
    "        nan_values = dataframe[e].isna().sum()\n",
    "        total = dataframe[e].count() + nan_values\n",
    "        percentage_nan = nan_values / total *100\n",
    "        \n",
    "        plt.title('({}) {}, % Nans: {:04.2f}%'.format(interesting_cols[i-1], e, percentage_nan))\n",
    "        plt.hist(dataframe[e].dropna(), align='mid')\n",
    "        i += 1\n",
    "\n",
    "    plt.show"
   ]
  },
  {
   "cell_type": "code",
   "execution_count": 11,
   "metadata": {
    "colab": {},
    "colab_type": "code",
    "id": "LyxOfYwl--zw"
   },
   "outputs": [
    {
     "data": {
      "image/png": "[encoded data removed]",
      "text/plain": [
       "<Figure size 1944x1080 with 15 Axes>"
      ]
     },
     "metadata": {
      "needs_background": "light"
     },
     "output_type": "display_data"
    }
   ],
   "source": [
    "# Call function 'dataframe_hist to investigate distribution per feature'\n",
    "# Columns selectioned present missing values per column greater than 70%\n",
    "# interesting_cols = [0, 39, 40, 43, 47, 64, 79]\n",
    "interesting_cols = range(0,15)\n",
    "dataframe_hist(azdias , 3, 5, interesting_cols)\n"
   ]
  },
  {
   "cell_type": "markdown",
   "metadata": {
    "colab_type": "text",
    "id": "xl4VMQR3--0E"
   },
   "source": [
    "#### Discussion 1.1.2: Assess Missing Data in Each Column\n",
    "\n",
    "(Double click this cell and replace this text with your own text, reporting your observations regarding the amount of missing data in each column. Are there any patterns in missing values? Which columns were removed from the dataset?)"
   ]
  },
  {
   "cell_type": "markdown",
   "metadata": {},
   "source": [
    "### Result:\n",
    "After investigate the dataset, it was possible to identify 3 features with very high rate of missing values (outliers), which will be dropped:\n",
    "\n",
    "- Features to drop, high percentage of missing data: \n",
    " - 'AGER_TYP', 76.96% \n",
    " - 'TITEL_KZ', 99.76% \n",
    " - 'KK_KUNDENTYP', 65.60%\n",
    " \n",
    "- In addition, many columns require imputation even though they have less percentage of missing values. indexes: [1, 3, 12, 14-23, 38, 39, 41, 46, 49, 51 60-63, 66-84  ]\n",
    "- Moreover, some features with mixed data type require more investigation since they were not possible to check with Histogram."
   ]
  },
  {
   "cell_type": "code",
   "execution_count": 12,
   "metadata": {
    "colab": {},
    "colab_type": "code",
    "id": "VNQiSi-m--z8"
   },
   "outputs": [
    {
     "name": "stdout",
     "output_type": "stream",
     "text": [
      "Shape before remove columns  (891221, 85)\n",
      "columns removed =  3\n",
      "shape \"azdias\" dataframe after columns removed:  (891221, 82)\n"
     ]
    }
   ],
   "source": [
    "# Remove the outlier columns from the dataset. (You'll perform other data\n",
    "# engineering tasks such as re-encoding and imputation later.)\n",
    "\n",
    "print('Shape before remove columns ', azdias.shape)\n",
    "# Drop 10 columns according to mentioned before.\n",
    "cols_to_drop = ['AGER_TYP','TITEL_KZ','KK_KUNDENTYP']\n",
    "azdias.drop(columns= cols_to_drop, inplace = True)\n",
    "print('columns removed = ', len(cols_to_drop))    \n",
    "print('shape \"azdias\" dataframe after columns removed: ', azdias.shape)"
   ]
  },
  {
   "cell_type": "code",
   "execution_count": 13,
   "metadata": {},
   "outputs": [
    {
     "name": "stdout",
     "output_type": "stream",
     "text": [
      "  Feature                   No NaNs   NaNs      Total     % NaNs    Drop      \n",
      "-----------------------------------------------------------------\n",
      " 0 ALTERSKATEGORIE_GROB      888,340     2,881   891,221   00.32%    No  \n",
      " 1 ANREDE_KZ                 891,221         0   891,221   00.00%    No  \n",
      " 2 CJT_GESAMTTYP             886,367     4,854   891,221   00.54%    No  \n",
      " 3 FINANZ_MINIMALIST         891,221         0   891,221   00.00%    No  \n",
      " 4 FINANZ_SPARER             891,221         0   891,221   00.00%    No  \n",
      " 5 FINANZ_VORSORGER          891,221         0   891,221   00.00%    No  \n",
      " 6 FINANZ_ANLEGER            891,221         0   891,221   00.00%    No  \n",
      " 7 FINANZ_UNAUFFAELLIGER     891,221         0   891,221   00.00%    No  \n",
      " 8 FINANZ_HAUSBAUER          891,221         0   891,221   00.00%    No  \n",
      " 9 FINANZTYP                 891,221         0   891,221   00.00%    No  \n",
      "10 GEBURTSJAHR               498,903   392,318   891,221   44.02%    No  \n",
      "11 GFK_URLAUBERTYP           886,367     4,854   891,221   00.54%    No  \n",
      "12 GREEN_AVANTGARDE          891,221         0   891,221   00.00%    No  \n",
      "13 HEALTH_TYP                780,025   111,196   891,221   12.48%    No  \n",
      "14 LP_LEBENSPHASE_FEIN       793,589    97,632   891,221   10.95%    No  \n",
      "15 LP_LEBENSPHASE_GROB       796,649    94,572   891,221   10.61%    No  \n",
      "16 LP_FAMILIE_FEIN           813,429    77,792   891,221   08.73%    No  \n",
      "17 LP_FAMILIE_GROB           813,429    77,792   891,221   08.73%    No  \n",
      "18 LP_STATUS_FEIN            886,367     4,854   891,221   00.54%    No  \n",
      "19 LP_STATUS_GROB            886,367     4,854   891,221   00.54%    No  \n",
      "20 NATIONALITAET_KZ          782,906   108,315   891,221   12.15%    No  \n",
      "21 PRAEGENDE_JUGENDJAHRE     783,057   108,164   891,221   12.14%    No  \n",
      "22 RETOURTYP_BK_S            886,367     4,854   891,221   00.54%    No  \n",
      "23 SEMIO_SOZ                 891,221         0   891,221   00.00%    No  \n",
      "24 SEMIO_FAM                 891,221         0   891,221   00.00%    No  \n",
      "25 SEMIO_REL                 891,221         0   891,221   00.00%    No  \n",
      "26 SEMIO_MAT                 891,221         0   891,221   00.00%    No  \n",
      "27 SEMIO_VERT                891,221         0   891,221   00.00%    No  \n",
      "28 SEMIO_LUST                891,221         0   891,221   00.00%    No  \n",
      "29 SEMIO_ERL                 891,221         0   891,221   00.00%    No  \n",
      "30 SEMIO_KULT                891,221         0   891,221   00.00%    No  \n",
      "31 SEMIO_RAT                 891,221         0   891,221   00.00%    No  \n",
      "32 SEMIO_KRIT                891,221         0   891,221   00.00%    No  \n",
      "33 SEMIO_DOM                 891,221         0   891,221   00.00%    No  \n",
      "34 SEMIO_KAEM                891,221         0   891,221   00.00%    No  \n",
      "35 SEMIO_PFLICHT             891,221         0   891,221   00.00%    No  \n",
      "36 SEMIO_TRADV               891,221         0   891,221   00.00%    No  \n",
      "37 SHOPPER_TYP               780,025   111,196   891,221   12.48%    No  \n",
      "38 SOHO_KZ                   817,722    73,499   891,221   08.25%    No  \n",
      "39 VERS_TYP                  780,025   111,196   891,221   12.48%    No  \n",
      "40 ZABEOTYP                  891,221         0   891,221   00.00%    No  \n",
      "41 ALTER_HH                  580,954   310,267   891,221   34.81%    No  \n",
      "42 ANZ_PERSONEN              817,722    73,499   891,221   08.25%    No  \n",
      "43 ANZ_TITEL                 817,722    73,499   891,221   08.25%    No  \n",
      "44 HH_EINKOMMEN_SCORE        872,873    18,348   891,221   02.06%    No  \n",
      "45 W_KEIT_KIND_HH            743,233   147,988   891,221   16.61%    No  \n",
      "46 WOHNDAUER_2008            817,722    73,499   891,221   08.25%    No  \n",
      "47 ANZ_HAUSHALTE_AKTIV       791,610    99,611   891,221   11.18%    No  \n",
      "48 ANZ_HH_TITEL              794,213    97,008   891,221   10.88%    No  \n",
      "49 GEBAEUDETYP               798,073    93,148   891,221   10.45%    No  \n",
      "50 KONSUMNAEHE               817,252    73,969   891,221   08.30%    No  \n",
      "51 MIN_GEBAEUDEJAHR          798,073    93,148   891,221   10.45%    No  \n",
      "52 OST_WEST_KZ               798,073    93,148   891,221   10.45%    No  \n",
      "53 WOHNLAGE                  798,073    93,148   891,221   10.45%    No  \n",
      "54 CAMEO_DEUG_2015           791,869    99,352   891,221   11.15%    No  \n",
      "55 CAMEO_DEU_2015            791,869    99,352   891,221   11.15%    No  \n",
      "56 CAMEO_INTL_2015           791,869    99,352   891,221   11.15%    No  \n",
      "57 KBA05_ANTG1               757,897   133,324   891,221   14.96%    No  \n",
      "58 KBA05_ANTG2               757,897   133,324   891,221   14.96%    No  \n",
      "59 KBA05_ANTG3               757,897   133,324   891,221   14.96%    No  \n",
      "60 KBA05_ANTG4               757,897   133,324   891,221   14.96%    No  \n",
      "61 KBA05_BAUMAX              414,697   476,524   891,221   53.47%    No  \n",
      "62 KBA05_GBZ                 757,897   133,324   891,221   14.96%    No  \n",
      "63 BALLRAUM                  797,481    93,740   891,221   10.52%    No  \n",
      "64 EWDICHTE                  797,481    93,740   891,221   10.52%    No  \n",
      "65 INNENSTADT                797,481    93,740   891,221   10.52%    No  \n",
      "66 GEBAEUDETYP_RASTER        798,066    93,155   891,221   10.45%    No  \n",
      "67 KKK                       733,157   158,064   891,221   17.74%    No  \n",
      "68 MOBI_REGIO                757,897   133,324   891,221   14.96%    No  \n",
      "69 ONLINE_AFFINITAET         886,367     4,854   891,221   00.54%    No  \n",
      "70 REGIOTYP                  733,157   158,064   891,221   17.74%    No  \n",
      "71 KBA13_ANZAHL_PKW          785,421   105,800   891,221   11.87%    No  \n",
      "72 PLZ8_ANTG1                774,706   116,515   891,221   13.07%    No  \n",
      "73 PLZ8_ANTG2                774,706   116,515   891,221   13.07%    No  \n",
      "74 PLZ8_ANTG3                774,706   116,515   891,221   13.07%    No  \n",
      "75 PLZ8_ANTG4                774,706   116,515   891,221   13.07%    No  \n",
      "76 PLZ8_BAUMAX               774,706   116,515   891,221   13.07%    No  \n",
      "77 PLZ8_HHZ                  774,706   116,515   891,221   13.07%    No  \n",
      "78 PLZ8_GBZ                  774,706   116,515   891,221   13.07%    No  \n",
      "79 ARBEIT                    793,846    97,375   891,221   10.93%    No  \n",
      "80 ORTSGR_KLS9               793,947    97,274   891,221   10.91%    No  \n",
      "81 RELAT_AB                  793,846    97,375   891,221   10.93%    No  \n"
     ]
    }
   ],
   "source": [
    "count_nulls(azdias, 0.65)"
   ]
  },
  {
   "cell_type": "markdown",
   "metadata": {
    "colab_type": "text",
    "id": "VfoCluBL--0F"
   },
   "source": [
    "#### Step 1.1.3: Assess Missing Data in Each Row\n",
    "\n",
    "Now, you'll perform a similar assessment for the rows of the dataset. How much data is missing in each row? As with the columns, you should see some groups of points that have a very different numbers of missing values. Divide the data into two subsets: one for data points that are above some threshold for missing values, and a second subset for points below that threshold.\n",
    "\n",
    "In order to know what to do with the outlier rows, we should see if the distribution of data values on columns that are not missing data (or are missing very little data) are similar or different between the two groups. Select at least five of these columns and compare the distribution of values.\n",
    "- You can use seaborn's [`countplot()`](https://seaborn.pydata.org/generated/seaborn.countplot.html) function to create a bar chart of code frequencies and matplotlib's [`subplot()`](https://matplotlib.org/api/_as_gen/matplotlib.pyplot.subplot.html) function to put bar charts for the two subplots side by side.\n",
    "- To reduce repeated code, you might want to write a function that can perform this comparison, taking as one of its arguments a column to be compared.\n",
    "\n",
    "Depending on what you observe in your comparison, this will have implications on how you approach your conclusions later in the analysis. If the distributions of non-missing features look similar between the data with many missing values and the data with few or no missing values, then we could argue that simply dropping those points from the analysis won't present a major issue. On the other hand, if the data with many missing values looks very different from the data with few or no missing values, then we should make a note on those data as special. We'll revisit these data later on. **Either way, you should continue your analysis for now using just the subset of the data with few or no missing values.**"
   ]
  },
  {
   "cell_type": "code",
   "execution_count": 14,
   "metadata": {
    "colab": {},
    "colab_type": "code",
    "id": "b9DHfWyz--0G"
   },
   "outputs": [
    {
     "name": "stdout",
     "output_type": "stream",
     "text": [
      "Threshold, rows containing >= 5 Nan values): \n",
      "(ABOVE) missing values >= 5, Rows:  192,064\n",
      "(BELOW) missing values < 5, Rows:  699,157\n",
      "Total Rows:  891,221\n"
     ]
    }
   ],
   "source": [
    "# Divide dataframe 'azdias' in 2 dataframes:\n",
    "# below_threshold -> Dataframe including all the rows with missing values below the threshold \n",
    "# above_threshold -> Dataframe including all the rows with missing values above the threshold\n",
    "\n",
    "THRESHOLD = 5\n",
    "print('Threshold, rows containing >= {} Nan values): '.format(THRESHOLD))\n",
    "\n",
    "thresh_no_nan = azdias.shape[1] - THRESHOLD\n",
    "\n",
    "below_threshold = azdias.dropna(thresh = thresh_no_nan)\n",
    "above_threshold = azdias.loc[~azdias.index.isin(azdias.dropna(thresh = thresh_no_nan).index)]\n",
    "\n",
    "print('(ABOVE) missing values >= {}, Rows: {:8,}'.format(THRESHOLD, above_threshold.shape[0]))\n",
    "print('(BELOW) missing values < {}, Rows: {:8,}'.format(THRESHOLD, below_threshold.shape[0]))\n",
    "print('Total Rows: {:8,}'.format(above_threshold.shape[0] + below_threshold.shape[0]))"
   ]
  },
  {
   "cell_type": "code",
   "execution_count": 57,
   "metadata": {},
   "outputs": [],
   "source": [
    "# compare a column distribution in 2 dataframes with same data dictionary\n",
    "# dataframe1: Panda dataframe containing the data to plot\n",
    "# dataframe2: Panda dataframe containing the data to plot\n",
    "# col_num: vector with columns numbers to plot\n",
    "\n",
    "def barchart_category(df1, df2, col_names, title_df1, title_df2):\n",
    "    sns.set(style=\"darkgrid\")\n",
    "    num_charts = len(col_names)\n",
    "    plt.figure(figsize=(25, 3.5 * num_charts))\n",
    "    i = 1\n",
    "    columns = 4\n",
    "    rows = math.ceil(num_charts * 2 / columns)    \n",
    "    for e in col_names:\n",
    "        plt.subplot(rows, columns, i)\n",
    "        plt.title(title_df1)\n",
    "        ax = sns.countplot(below_threshold[e], data=df1)\n",
    "        i += 1\n",
    "        plt.subplot(rows, columns, i)\n",
    "        plt.title(title_df2)\n",
    "        ax1 = sns.countplot(above_threshold[e], data=df2)\n",
    "        i += 1"
   ]
  },
  {
   "cell_type": "code",
   "execution_count": 59,
   "metadata": {},
   "outputs": [
    {
     "data": {
      "image/png": "[encoded data removed]",
      "text/plain": [
       "<Figure size 1800x2016 with 16 Axes>"
      ]
     },
     "metadata": {},
     "output_type": "display_data"
    }
   ],
   "source": [
    "barchart_category(below_threshold, above_threshold, title_df1 = 'Below Threshold', title_df2='Above Threshold',\n",
    "                  col_names = ['ALTERSKATEGORIE_GROB', 'LP_LEBENSPHASE_FEIN', 'GEBURTSJAHR', 'CAMEO_INTL_2015',\n",
    "                                                              'GEBAEUDETYP_RASTER', 'ARBEIT', 'PLZ8_ANTG4', 'HH_EINKOMMEN_SCORE',])\n"
   ]
  },
  {
   "cell_type": "markdown",
   "metadata": {
    "colab_type": "text",
    "id": "fa7vWmHR--0W"
   },
   "source": [
    "#### Discussion 1.1.3: Assess Missing Data in Each Row\n",
    "\n",
    "#### Answer:\n",
    "\n",
    "The threshold applied was 5 (rows with >= 5 Nans values) which means 2 dataframes created with the following percentages of data:\n",
    "\n",
    " - (ABOVE threshold) missing values >= 5, Rows:  186,428 (20.91%)\n",
    " - (BELOW threshold) missing values < 5, Rows:  704,793 (79.08%)\n",
    "\n",
    "Total Rows:  891,221\n",
    "\n",
    "Observations:\n",
    "1) At least 20% of the rows contains 5 or more missing values, which is a lot of data missing.  \n",
    "2) When comparing both datasets (above, below), the distribution of the categories does not look so bad, in fact the bar charts are very similar."
   ]
  },
  {
   "cell_type": "markdown",
   "metadata": {
    "colab_type": "text",
    "id": "WEAkqTgI--0X"
   },
   "source": [
    "### Step 1.2: Select and Re-Encode Features\n",
    "\n",
    "Checking for missing data isn't the only way in which you can prepare a dataset for analysis. Since the unsupervised learning techniques to be used will only work on data that is encoded numerically, you need to make a few encoding changes or additional assumptions to be able to make progress. In addition, while almost all of the values in the dataset are encoded using numbers, not all of them represent numeric values. Check the third column of the feature summary (`feat_info`) for a summary of types of measurement.\n",
    "- For numeric and interval data, these features can be kept without changes.\n",
    "- Most of the variables in the dataset are ordinal in nature. While ordinal values may technically be non-linear in spacing, make the simplifying assumption that the ordinal variables can be treated as being interval in nature (that is, kept without any changes).\n",
    "- Special handling may be necessary for the remaining two variable types: categorical, and 'mixed'.\n",
    "\n",
    "In the first two parts of this sub-step, you will perform an investigation of the categorical and mixed-type features and make a decision on each of them, whether you will keep, drop, or re-encode each. Then, in the last part, you will create a new data frame with only the selected and engineered columns.\n",
    "\n",
    "Data wrangling is often the trickiest part of the data analysis process, and there's a lot of it to be done here. But stick with it: once you're done with this step, you'll be ready to get to the machine learning parts of the project!"
   ]
  },
  {
   "cell_type": "code",
   "execution_count": 22,
   "metadata": {
    "colab": {},
    "colab_type": "code",
    "id": "Jpsj6ldD--0Y"
   },
   "outputs": [
    {
     "data": {
      "image/png": "[encoded data removed]",
      "text/plain": [
       "<Figure size 432x288 with 1 Axes>"
      ]
     },
     "metadata": {},
     "output_type": "display_data"
    }
   ],
   "source": [
    "# How many features are there of each data type?\n",
    "feat_info.type\n",
    "ax = sns.countplot(x='type', data=feat_info,\n",
    "                   facecolor=(0, 0, 0, 0),\n",
    "                   linewidth=5,\n",
    "                   edgecolor=sns.color_palette(\"dark\", 3)\n",
    "                  )\n",
    "\n",
    "plt.title('AZDIAS Features Summary')\n",
    "plt.xlabel('Data Type')\n",
    "plt.ylabel('Frequency')\n",
    "\n",
    "for p in ax.patches:\n",
    "    ax.annotate(format(p.get_height(), '.2f'), \n",
    "                (p.get_x() + p.get_width() / 2., p.get_height()), \n",
    "                ha = 'center', va = 'center', xytext = (0, 10), \n",
    "                textcoords = 'offset points')\n",
    "\n"
   ]
  },
  {
   "cell_type": "markdown",
   "metadata": {
    "colab_type": "text",
    "id": "2tj1eDuu--0d"
   },
   "source": [
    "#### Step 1.2.1: Re-Encode Categorical Features\n",
    "\n",
    "For categorical data, you would ordinarily need to encode the levels as dummy variables. Depending on the number of categories, perform one of the following:\n",
    "- For binary (two-level) categoricals that take numeric values, you can keep them without needing to do anything.\n",
    "- There is one binary variable that takes on non-numeric values. For this one, you need to re-encode the values as numbers or create a dummy variable.\n",
    "- For multi-level categoricals (three or more values), you can choose to encode the values using multiple dummy variables (e.g. via [OneHotEncoder](http://scikit-learn.org/stable/modules/generated/sklearn.preprocessing.OneHotEncoder.html)), or (to keep things straightforward) just drop them from the analysis. As always, document your choices in the Discussion section."
   ]
  },
  {
   "cell_type": "code",
   "execution_count": 54,
   "metadata": {
    "colab": {},
    "colab_type": "code",
    "id": "7Bz3MeKt--0e"
   },
   "outputs": [
    {
     "name": "stdout",
     "output_type": "stream",
     "text": [
      "Column Name                   Type\tNum of Cat\tValues \n",
      "------------------------------------------------------------------\n",
      "ANREDE_KZ                  categorical\t2\t\t[2 1] \n",
      "CJT_GESAMTTYP              categorical\t6\t\t[5. 3. 2. 4. 1. 6.] \n",
      "FINANZTYP                  categorical\t6\t\t[1 5 2 4 6 3] \n",
      "GFK_URLAUBERTYP            categorical\t12\t\t[10.  5.  1. 12.  9.  3.  8. 11.  4.  7.  2.  6.] \n",
      "GREEN_AVANTGARDE           categorical\t2\t\t[0 1] \n",
      "LP_FAMILIE_FEIN            categorical\t11\t\t[ 5.  1. 10.  2.  7. 11.  8.  4.  6.  9.  3.] \n",
      "LP_FAMILIE_GROB            categorical\t5\t\t[3. 1. 5. 2. 4.] \n",
      "LP_STATUS_FEIN             categorical\t10\t\t[ 2.  3.  4.  1. 10.  9.  5.  8.  6.  7.] \n",
      "LP_STATUS_GROB             categorical\t5\t\t[1. 2. 5. 4. 3.] \n",
      "NATIONALITAET_KZ           categorical\t3\t\t[1. 2. 3.] \n",
      "SHOPPER_TYP                categorical\t4\t\t[3. 2. 0. 1.] \n",
      "SOHO_KZ                    categorical\t2\t\t[1. 0.] \n",
      "VERS_TYP                   categorical\t2\t\t[2. 1.] \n",
      "ZABEOTYP                   categorical\t6\t\t[5 4 1 6 3 2] \n",
      "GEBAEUDETYP                categorical\t7\t\t[8. 1. 3. 6. 2. 4. 5.] \n",
      "OST_WEST_KZ                categorical\t2\t\t['W' 'O'] \n",
      "CAMEO_DEUG_2015            categorical\t9\t\t['8' '4' '6' '2' '1' '9' '5' '3' '7'] \n",
      "CAMEO_DEU_2015             categorical\t44\t\t['8A' '4C' '6B' '8C' '4A' '2D' '1A' '1E' '9D' '5D' '9E' '9B' '2A' '1B'\n",
      " '8B' '3D' '7A' '4E' '4B' '3C' '5A' '7B' '9A' '6D' '6E' '2C' '5C' '9C'\n",
      " '7D' '5E' '1D' '8D' '6C' '6A' '5B' '7C' '4D' '3A' '2B' '7E' '3B' '6F'\n",
      " '5F' '1C'] \n",
      "------------------------------------------------------------------\n",
      "Total columns by type:  18\n"
     ]
    }
   ],
   "source": [
    "# Assess categorical variables: which are binary, which are multi-level, and\n",
    "# which one needs to be re-encoded?\n",
    "\n",
    "\n",
    "# function: print_column_info()\n",
    "# description: Print on screen columns information in 'azdias' using feat_info.\n",
    "    \n",
    "# df: dataframe to investigate info\n",
    "# df_types: dataframe containing data types for each column in df\n",
    "# feature: Name of column in df_types to extract data type\n",
    "# data_type: Type of data to investigate\n",
    "\n",
    "\n",
    "def print_column_info(df, df_types, feature, data_type ):\n",
    "    print('{:30}{}\\t{}\\t{} '.format('Column Name','Type','Num of Cat','Values'))\n",
    "    print('------------------------------------------------------------------')\n",
    "    i = 0\n",
    "    cat =''\n",
    "    for index, row in df_types.iterrows():\n",
    "        if row.type == data_type:            \n",
    "            try:\n",
    "                cat = df[row.attribute].dropna().unique()\n",
    "                print('{:25}  {}\\t{}\\t\\t{} '.format(row.attribute, data_type, len(cat), cat))\n",
    "                i += 1\n",
    "            except:\n",
    "                continue\n",
    "        \n",
    "    print('------------------------------------------------------------------')\n",
    "    print('Total columns by type: ',i)\n",
    "    \n",
    "\n",
    "print_column_info(below_threshold, feat_info, feature = 'attribute', data_type = 'categorical')"
   ]
  },
  {
   "cell_type": "code",
   "execution_count": null,
   "metadata": {},
   "outputs": [],
   "source": []
  },
  {
   "cell_type": "code",
   "execution_count": 24,
   "metadata": {
    "colab": {},
    "colab_type": "code",
    "id": "9C5tI327--0j"
   },
   "outputs": [
    {
     "name": "stdout",
     "output_type": "stream",
     "text": [
      "Feature: ANREDE_KZ                \tEncoded 2 columns\n",
      "Feature: CJT_GESAMTTYP            \tEncoded 6 columns\n",
      "Feature: FINANZTYP                \tEncoded 6 columns\n",
      "Feature: GFK_URLAUBERTYP          \tEncoded 12 columns\n",
      "Feature: GREEN_AVANTGARDE         \tEncoded 2 columns\n",
      "Feature: LP_FAMILIE_FEIN          \tEncoded 11 columns\n",
      "Feature: LP_FAMILIE_GROB          \tEncoded 5 columns\n",
      "Feature: LP_STATUS_FEIN           \tEncoded 10 columns\n",
      "Feature: LP_STATUS_GROB           \tEncoded 5 columns\n",
      "Feature: NATIONALITAET_KZ         \tEncoded 3 columns\n",
      "Feature: SHOPPER_TYP              \tEncoded 4 columns\n",
      "Feature: SOHO_KZ                  \tEncoded 2 columns\n",
      "Feature: VERS_TYP                 \tEncoded 2 columns\n",
      "Feature: ZABEOTYP                 \tEncoded 6 columns\n",
      "Feature: GEBAEUDETYP              \tEncoded 7 columns\n",
      "Feature: OST_WEST_KZ              \tEncoded 2 columns\n",
      "Feature: CAMEO_DEUG_2015          \tEncoded 9 columns\n",
      "Feature: CAMEO_DEU_2015           \tEncoded 44 columns\n",
      "Total Columns:  138\n",
      "(699157, 202)\n"
     ]
    },
    {
     "data": {
      "text/html": [
       "<div>\n",
       "<style scoped>\n",
       "    .dataframe tbody tr th:only-of-type {\n",
       "        vertical-align: middle;\n",
       "    }\n",
       "\n",
       "    .dataframe tbody tr th {\n",
       "        vertical-align: top;\n",
       "    }\n",
       "\n",
       "    .dataframe thead th {\n",
       "        text-align: right;\n",
       "    }\n",
       "</style>\n",
       "<table border=\"1\" class=\"dataframe\">\n",
       "  <thead>\n",
       "    <tr style=\"text-align: right;\">\n",
       "      <th></th>\n",
       "      <th>ALTERSKATEGORIE_GROB</th>\n",
       "      <th>FINANZ_MINIMALIST</th>\n",
       "      <th>FINANZ_SPARER</th>\n",
       "      <th>FINANZ_VORSORGER</th>\n",
       "      <th>FINANZ_ANLEGER</th>\n",
       "      <th>FINANZ_UNAUFFAELLIGER</th>\n",
       "      <th>FINANZ_HAUSBAUER</th>\n",
       "      <th>GEBURTSJAHR</th>\n",
       "      <th>HEALTH_TYP</th>\n",
       "      <th>LP_LEBENSPHASE_FEIN</th>\n",
       "      <th>...</th>\n",
       "      <th>CAMEO_DEU_2015_7E</th>\n",
       "      <th>CAMEO_DEU_2015_8A</th>\n",
       "      <th>CAMEO_DEU_2015_8B</th>\n",
       "      <th>CAMEO_DEU_2015_8C</th>\n",
       "      <th>CAMEO_DEU_2015_8D</th>\n",
       "      <th>CAMEO_DEU_2015_9A</th>\n",
       "      <th>CAMEO_DEU_2015_9B</th>\n",
       "      <th>CAMEO_DEU_2015_9C</th>\n",
       "      <th>CAMEO_DEU_2015_9D</th>\n",
       "      <th>CAMEO_DEU_2015_9E</th>\n",
       "    </tr>\n",
       "  </thead>\n",
       "  <tbody>\n",
       "    <tr>\n",
       "      <th>1</th>\n",
       "      <td>1.0</td>\n",
       "      <td>1</td>\n",
       "      <td>5</td>\n",
       "      <td>2</td>\n",
       "      <td>5</td>\n",
       "      <td>4</td>\n",
       "      <td>5</td>\n",
       "      <td>1996.0</td>\n",
       "      <td>3.0</td>\n",
       "      <td>21.0</td>\n",
       "      <td>...</td>\n",
       "      <td>0</td>\n",
       "      <td>1</td>\n",
       "      <td>0</td>\n",
       "      <td>0</td>\n",
       "      <td>0</td>\n",
       "      <td>0</td>\n",
       "      <td>0</td>\n",
       "      <td>0</td>\n",
       "      <td>0</td>\n",
       "      <td>0</td>\n",
       "    </tr>\n",
       "    <tr>\n",
       "      <th>2</th>\n",
       "      <td>3.0</td>\n",
       "      <td>1</td>\n",
       "      <td>4</td>\n",
       "      <td>1</td>\n",
       "      <td>2</td>\n",
       "      <td>3</td>\n",
       "      <td>5</td>\n",
       "      <td>1979.0</td>\n",
       "      <td>3.0</td>\n",
       "      <td>3.0</td>\n",
       "      <td>...</td>\n",
       "      <td>0</td>\n",
       "      <td>0</td>\n",
       "      <td>0</td>\n",
       "      <td>0</td>\n",
       "      <td>0</td>\n",
       "      <td>0</td>\n",
       "      <td>0</td>\n",
       "      <td>0</td>\n",
       "      <td>0</td>\n",
       "      <td>0</td>\n",
       "    </tr>\n",
       "    <tr>\n",
       "      <th>4</th>\n",
       "      <td>3.0</td>\n",
       "      <td>4</td>\n",
       "      <td>3</td>\n",
       "      <td>4</td>\n",
       "      <td>1</td>\n",
       "      <td>3</td>\n",
       "      <td>2</td>\n",
       "      <td>1963.0</td>\n",
       "      <td>3.0</td>\n",
       "      <td>32.0</td>\n",
       "      <td>...</td>\n",
       "      <td>0</td>\n",
       "      <td>0</td>\n",
       "      <td>0</td>\n",
       "      <td>0</td>\n",
       "      <td>0</td>\n",
       "      <td>0</td>\n",
       "      <td>0</td>\n",
       "      <td>0</td>\n",
       "      <td>0</td>\n",
       "      <td>0</td>\n",
       "    </tr>\n",
       "    <tr>\n",
       "      <th>5</th>\n",
       "      <td>1.0</td>\n",
       "      <td>3</td>\n",
       "      <td>1</td>\n",
       "      <td>5</td>\n",
       "      <td>2</td>\n",
       "      <td>2</td>\n",
       "      <td>5</td>\n",
       "      <td>1943.0</td>\n",
       "      <td>3.0</td>\n",
       "      <td>8.0</td>\n",
       "      <td>...</td>\n",
       "      <td>0</td>\n",
       "      <td>0</td>\n",
       "      <td>0</td>\n",
       "      <td>1</td>\n",
       "      <td>0</td>\n",
       "      <td>0</td>\n",
       "      <td>0</td>\n",
       "      <td>0</td>\n",
       "      <td>0</td>\n",
       "      <td>0</td>\n",
       "    </tr>\n",
       "    <tr>\n",
       "      <th>6</th>\n",
       "      <td>2.0</td>\n",
       "      <td>1</td>\n",
       "      <td>5</td>\n",
       "      <td>1</td>\n",
       "      <td>5</td>\n",
       "      <td>4</td>\n",
       "      <td>3</td>\n",
       "      <td>NaN</td>\n",
       "      <td>2.0</td>\n",
       "      <td>2.0</td>\n",
       "      <td>...</td>\n",
       "      <td>0</td>\n",
       "      <td>0</td>\n",
       "      <td>0</td>\n",
       "      <td>0</td>\n",
       "      <td>0</td>\n",
       "      <td>0</td>\n",
       "      <td>0</td>\n",
       "      <td>0</td>\n",
       "      <td>0</td>\n",
       "      <td>0</td>\n",
       "    </tr>\n",
       "  </tbody>\n",
       "</table>\n",
       "<p>5 rows × 202 columns</p>\n",
       "</div>"
      ],
      "text/plain": [
       "   ALTERSKATEGORIE_GROB  FINANZ_MINIMALIST  FINANZ_SPARER  FINANZ_VORSORGER  \\\n",
       "1                   1.0                  1              5                 2   \n",
       "2                   3.0                  1              4                 1   \n",
       "4                   3.0                  4              3                 4   \n",
       "5                   1.0                  3              1                 5   \n",
       "6                   2.0                  1              5                 1   \n",
       "\n",
       "   FINANZ_ANLEGER  FINANZ_UNAUFFAELLIGER  FINANZ_HAUSBAUER  GEBURTSJAHR  \\\n",
       "1               5                      4                 5       1996.0   \n",
       "2               2                      3                 5       1979.0   \n",
       "4               1                      3                 2       1963.0   \n",
       "5               2                      2                 5       1943.0   \n",
       "6               5                      4                 3          NaN   \n",
       "\n",
       "   HEALTH_TYP  LP_LEBENSPHASE_FEIN  ...  CAMEO_DEU_2015_7E  CAMEO_DEU_2015_8A  \\\n",
       "1         3.0                 21.0  ...                  0                  1   \n",
       "2         3.0                  3.0  ...                  0                  0   \n",
       "4         3.0                 32.0  ...                  0                  0   \n",
       "5         3.0                  8.0  ...                  0                  0   \n",
       "6         2.0                  2.0  ...                  0                  0   \n",
       "\n",
       "   CAMEO_DEU_2015_8B  CAMEO_DEU_2015_8C  CAMEO_DEU_2015_8D  CAMEO_DEU_2015_9A  \\\n",
       "1                  0                  0                  0                  0   \n",
       "2                  0                  0                  0                  0   \n",
       "4                  0                  0                  0                  0   \n",
       "5                  0                  1                  0                  0   \n",
       "6                  0                  0                  0                  0   \n",
       "\n",
       "   CAMEO_DEU_2015_9B  CAMEO_DEU_2015_9C  CAMEO_DEU_2015_9D  CAMEO_DEU_2015_9E  \n",
       "1                  0                  0                  0                  0  \n",
       "2                  0                  0                  0                  0  \n",
       "4                  0                  0                  0                  0  \n",
       "5                  0                  0                  0                  0  \n",
       "6                  0                  0                  0                  0  \n",
       "\n",
       "[5 rows x 202 columns]"
      ]
     },
     "execution_count": 24,
     "metadata": {},
     "output_type": "execute_result"
    }
   ],
   "source": [
    "# Re-encode categorical variable(s) to be kept in the analysis.\n",
    "# All the categorial variables I showed in previous cell will be encoded even the binary features since 'OST_WEST_KZ' contains only\n",
    "# 2 values, it is two characters which need to be converted to numeric for modelling later.\n",
    "\n",
    "# One hot encode for all categorical variables. The function returns the original dataframe concat with one hot columns.\n",
    "# Also, original columns encoded are dropped for the encoded feature.\n",
    "\n",
    "def encode_categorical(df, df_types, feature):\n",
    "    i = 0\n",
    "#     df_one_hot_encoding = pd.DataFrame()\n",
    "    for c in df.columns:        \n",
    "        r = df_types[df_types[feature] == c]\n",
    "        r = r.iloc[0,2]    \n",
    "        if r == 'categorical':\n",
    "            df_encoded = pd.get_dummies(df[c], prefix = c)\n",
    "            df = pd.concat([df, df_encoded ], axis=1)\n",
    "            df = df.drop(c, axis=1)\n",
    "            print('Feature: {:25}\\tEncoded {} columns'.format(c, df_encoded.shape[1]))\n",
    "            i += df_encoded.shape[1]\n",
    "    print('Total Columns: ', i)\n",
    " \n",
    "    return df\n",
    "\n",
    "\n",
    "\n",
    "df_encoded = encode_categorical(below_threshold, feat_info, feature = 'attribute')\n",
    "print(df_encoded.shape)\n",
    "df_encoded.head()\n"
   ]
  },
  {
   "cell_type": "markdown",
   "metadata": {
    "colab_type": "text",
    "id": "F3g48a2K--0o"
   },
   "source": [
    "#### Discussion 1.2.1: Re-Encode Categorical Features\n",
    "\n",
    "In this step, I decided to keep all categorical features and encode them giving the chance to PCA analysis make a good reduction. Note that always is the option to go back a make adjustment in this analysis if good performance of our cluster model and PCA is not reached.\n",
    "\n",
    "Moreover, features 'CAMEO_DEUG_2015' and 'CAMEO_DEU_2015' are good candidates to drop due to the quantity of categories (9, 44) which could be a obstacle to PCA when finding a good linear relation, but for now I want to keep them and see what are the results.\n",
    "\n",
    "In addition, I used get_dummies() function to create one_hot_encoding features. One of my bigest concern with the dataset is the quantity of missing values which represent a big portion of the data. So, I will focus to make decision rather to drop some rows or impute them without altering or biasing the results.\n",
    "\n"
   ]
  },
  {
   "cell_type": "markdown",
   "metadata": {
    "colab_type": "text",
    "id": "GoCSJgcS--0q"
   },
   "source": [
    "#### Step 1.2.2: Engineer Mixed-Type Features\n",
    "\n",
    "There are a handful of features that are marked as \"mixed\" in the feature summary that require special treatment in order to be included in the analysis. There are two in particular that deserve attention; the handling of the rest are up to your own choices:\n",
    "- \"PRAEGENDE_JUGENDJAHRE\" combines information on three dimensions: generation by decade, movement (mainstream vs. avantgarde), and nation (east vs. west). While there aren't enough levels to disentangle east from west, you should create two new variables to capture the other two dimensions: an interval-type variable for decade, and a binary variable for movement.\n",
    "- \"CAMEO_INTL_2015\" combines information on two axes: wealth and life stage. Break up the two-digit codes by their 'tens'-place and 'ones'-place digits into two new ordinal variables (which, for the purposes of this project, is equivalent to just treating them as their raw numeric values).\n",
    "- If you decide to keep or engineer new features around the other mixed-type features, make sure you note your steps in the Discussion section.\n",
    "\n",
    "Be sure to check `Data_Dictionary.md` for the details needed to finish these tasks."
   ]
  },
  {
   "cell_type": "code",
   "execution_count": 55,
   "metadata": {},
   "outputs": [
    {
     "name": "stdout",
     "output_type": "stream",
     "text": [
      "Column Name                   Type\tNum of Cat\tValues \n",
      "------------------------------------------------------------------\n",
      "LP_LEBENSPHASE_FEIN        mixed\t40\t\t[21.  3. 32.  8.  2.  5. 10.  4.  6. 20.  1. 25. 13. 18. 31. 38. 35. 30.\n",
      "  7. 22. 14. 29. 24. 37. 26. 12. 39. 27. 36.  9. 34. 33. 15. 11. 40. 16.\n",
      " 19. 23. 28. 17.] \n",
      "LP_LEBENSPHASE_GROB        mixed\t12\t\t[ 6.  1. 10.  2.  3.  5.  7. 12. 11.  9.  4.  8.] \n",
      "PRAEGENDE_JUGENDJAHRE      mixed\t15\t\t[14. 15.  8.  3. 10. 11.  9.  6.  4.  5.  2.  1. 12. 13.  7.] \n",
      "WOHNLAGE                   mixed\t8\t\t[4. 2. 3. 7. 5. 1. 8. 0.] \n",
      "CAMEO_INTL_2015            mixed\t21\t\t['51' '24' '43' '54' '22' '14' '13' '15' '34' '55' '12' '41' '25' '23'\n",
      " '31' '52' '35' '45' '33' '44' '32'] \n",
      "KBA05_BAUMAX               mixed\t5\t\t[5. 1. 2. 3. 4.] \n",
      "PLZ8_BAUMAX                mixed\t5\t\t[1. 2. 4. 5. 3.] \n",
      "------------------------------------------------------------------\n",
      "Total columns by type:  7\n"
     ]
    }
   ],
   "source": [
    "print_column_info(df_encoded, feat_info, feature = 'attribute', data_type = 'mixed')"
   ]
  },
  {
   "cell_type": "code",
   "execution_count": null,
   "metadata": {
    "colab": {},
    "colab_type": "code",
    "id": "O7mPr1oj--0r"
   },
   "outputs": [],
   "source": [
    "# FEATURE ENGINEERING FOR \"PRAEGENDE_JUGENDJAHRE\"\n",
    "# takes feature \"PRAEGENDE_JUGENDJAHRE\", then create 2 columns according to the following codification:\n",
    "'''\n",
    "Decoding 'DECADES'\n",
    "Type: Interval\n",
    "40 -> 1,2\n",
    "50 -> 3,4\n",
    "60 -> 5,6,7\n",
    "70 -> 8,9\n",
    "80 -> 10,11,12,13\n",
    "90 -> 14,15\n",
    "\n",
    "Decoding 'MOVEMENT'\n",
    "Type: Binary\n",
    "0 -> avantgarde (2,4,6,7,9,11,13,15)\n",
    "1 -> mainstream (1,3,5,8,10,12,14)\n",
    "\n",
    "'''\n",
    "def decoding_praegende(row):\n",
    "    dict = {'1':[40,1], '2':[40,0], '3':[50,1], '4':[50,0], '5':[60,1], '6':[60,0], '7':[60,0], '8':[70,1], '9':[70,0],\n",
    "            '10':[80,1], '11':[80,0],'12':[80,1], '13':[80,0], '14':[90,1], '15':[90,0] }\n",
    "#     print('row: ',row)\n",
    "    \n",
    "    if np.isnan(row):\n",
    "        decade = np.nan\n",
    "        movement = np.nan\n",
    "    else:\n",
    "        row = str(int(row))\n",
    "        decade = dict[row][0]\n",
    "        movement = dict[row][1]\n",
    "    \n",
    "    return decade, movement\n",
    "\n",
    "def split_praegende(df):\n",
    "    serie_tuple = df['PRAEGENDE_JUGENDJAHRE'].apply(lambda row: decoding_praegende(row))\n",
    "    df = pd.concat([df, pd.DataFrame(serie_tuple.tolist(), columns=['DECADES','MOVEMENT'], index=serie_tuple.index)], axis=1)\n",
    "    \n",
    "    # Drop feature 'PRAEGENDE_JUGENDJAHRE' which is not meaning anymore since we extracted the data in previous step\n",
    "    df_encoded.drop(columns='PRAEGENDE_JUGENDJAHRE', inplace = True)\n",
    "\n",
    "    print(df.shape)    \n",
    "    \n",
    "    \n",
    "    return df\n",
    "\n",
    "df_encoded = split_praegende(df_encoded)"
   ]
  },
  {
   "cell_type": "code",
   "execution_count": null,
   "metadata": {},
   "outputs": [],
   "source": [
    "df_encoded.head()"
   ]
  },
  {
   "cell_type": "code",
   "execution_count": null,
   "metadata": {},
   "outputs": [],
   "source": [
    "# FEATURE ENGINEERING FOR \"CAMEO_INTL_2015\"\n",
    "# takes feature \"CAMEO_INTL_2015\", then create 2 columns according to the following codification:\n",
    "'''\n",
    "-----------------------------------------\n",
    "Decoding 'WEALTH'\n",
    "Type: Ordinal, (First digit)\n",
    "11 -> 1\n",
    "12 -> 1\n",
    "13 -> 1\n",
    ".\n",
    ".\n",
    ".\n",
    "55 -> 5\n",
    "-----------------------------------------\n",
    "Decoding 'LIFE_STAGE'\n",
    "Type: Ordinal, (Second digit)\n",
    "11 -> 1\n",
    "12 -> 2\n",
    "13 -> 3\n",
    ".\n",
    ".\n",
    ".\n",
    "55 -> 5\n",
    "-----------------------------------------\n",
    "'''\n",
    "def decoding_cameo_intl(row):\n",
    "\n",
    "#     print(row, type(row))\n",
    "   \n",
    "    try:\n",
    "        if np.isnan(row):\n",
    "            wealth = np.nan\n",
    "            life_stage = np.nan   \n",
    "    except:        \n",
    "        row = str(row)\n",
    "        wealth = int(row[0])\n",
    "        life_stage = int(row[1])\n",
    "   \n",
    "    return wealth, life_stage\n",
    "\n",
    "def split_cameo_intl(df):\n",
    "    serie_tuple = df['CAMEO_INTL_2015'].apply(lambda row: decoding_cameo_intl(row))\n",
    "    df = pd.concat([df, pd.DataFrame(serie_tuple.tolist(), columns=['WEALTH','LIFE_STAGE'], index=serie_tuple.index)], axis=1)\n",
    "    \n",
    "    # Drop feature 'CAMEO_INTL_2015' which is not meaning anymore since we extracted the data in previous step\n",
    "    df_encoded.drop(columns='CAMEO_INTL_2015', inplace = True)\n",
    "\n",
    "    print(df.shape)    \n",
    "\n",
    "    return df\n",
    "\n",
    "df_encoded = split_cameo_intl(df_encoded)"
   ]
  },
  {
   "cell_type": "code",
   "execution_count": null,
   "metadata": {},
   "outputs": [],
   "source": [
    "df_encoded.head()"
   ]
  },
  {
   "cell_type": "code",
   "execution_count": 60,
   "metadata": {},
   "outputs": [
    {
     "data": {
      "image/png": "[encoded data removed]",
      "text/plain": [
       "<Figure size 1800x1260 with 10 Axes>"
      ]
     },
     "metadata": {},
     "output_type": "display_data"
    }
   ],
   "source": [
    "barchart_category(df_encoded, df_encoded, title_df1='Current Dataframe', title_df2='Current Dataframe',\n",
    "                  col_names = ['LP_LEBENSPHASE_FEIN', 'LP_LEBENSPHASE_GROB', 'WOHNLAGE',\n",
    "                                                              'KBA05_BAUMAX', 'PLZ8_BAUMAX'])\n"
   ]
  },
  {
   "cell_type": "code",
   "execution_count": 62,
   "metadata": {},
   "outputs": [
    {
     "data": {
      "text/plain": [
       "(699157, 197)"
      ]
     },
     "execution_count": 62,
     "metadata": {},
     "output_type": "execute_result"
    }
   ],
   "source": [
    "# Drop columns 'LP_LEBENSPHASE_FEIN', 'LP_LEBENSPHASE_GROB', 'WOHNLAGE','KBA05_BAUMAX', 'PLZ8_BAUMAX'])\n",
    "cols_to_drop = ['LP_LEBENSPHASE_FEIN', 'LP_LEBENSPHASE_GROB', 'WOHNLAGE','KBA05_BAUMAX', 'PLZ8_BAUMAX']\n",
    "df_encoded = df_encoded.drop(cols_to_drop , axis=1)\n",
    "df_encoded.shape"
   ]
  },
  {
   "cell_type": "code",
   "execution_count": null,
   "metadata": {
    "colab": {},
    "colab_type": "code",
    "id": "JlxhDG6o--0w"
   },
   "outputs": [],
   "source": [
    "# Investigate \"CAMEO_INTL_2015\" and engineer two new variables.\n",
    "\n",
    "\n",
    "# azdias.drop('0', axis=1, inplace = True)"
   ]
  },
  {
   "cell_type": "markdown",
   "metadata": {
    "colab_type": "text",
    "id": "AYC5doUs--03"
   },
   "source": [
    "#### Discussion 1.2.2: Engineer Mixed-Type Features\n",
    "\n",
    "I decided to drop the rest of 'mixed' features because the following reasons:\n",
    "\n",
    "- LP_LEBENSPHASE_FEIN ( Denotating Life stage, fine scale):\n",
    "It can take 40 different values which could introduce noise to the model avoiding it to learn patterns. I don't see how this variable can help the model to generalize. I decided to drop this feature.\n",
    "\n",
    "- LP_LEBENSPHASE_GROB ( Denotating Life stage, rough scale):\n",
    "Same information than 'LP_LEBENSPHASE_FEIN', but in rought scale. \n",
    "\n",
    "- WOHNLAGE (Denotating information about neighbors)\n",
    "No useful for the analysis\n",
    "\n",
    "- KBA05_BAUMAX (Most common building type within the microcell)\n",
    "It does not look like important information about the people, more detail should be necessary to understand what they are measuring with 'microcell'. For now, it will be dropped.\n",
    "\n",
    "- PLZ8_BAUMAX (Most common building type within the PLZ8 region)\n",
    "This features is more about the type of building by region. It will be dropped."
   ]
  },
  {
   "cell_type": "markdown",
   "metadata": {
    "colab_type": "text",
    "id": "182jsARG--04"
   },
   "source": [
    "#### Step 1.2.3: Complete Feature Selection\n",
    "\n",
    "In order to finish this step up, you need to make sure that your data frame now only has the columns that you want to keep. To summarize, the dataframe should consist of the following:\n",
    "- All numeric, interval, and ordinal type columns from the original dataset.\n",
    "- Binary categorical features (all numerically-encoded).\n",
    "- Engineered features from other multi-level categorical features and mixed features.\n",
    "\n",
    "Make sure that for any new columns that you have engineered, that you've excluded the original columns from the final dataset. Otherwise, their values will interfere with the analysis later on the project. For example, you should not keep \"PRAEGENDE_JUGENDJAHRE\", since its values won't be useful for the algorithm: only the values derived from it in the engineered features you created should be retained. As a reminder, your data should only be from **the subset with few or no missing values**."
   ]
  },
  {
   "cell_type": "code",
   "execution_count": null,
   "metadata": {
    "colab": {},
    "colab_type": "code",
    "id": "QDrZrKAW--05"
   },
   "outputs": [],
   "source": [
    "# If there are other re-engineering tasks you need to perform, make sure you\n",
    "# take care of them here. (Dealing with missing data will come in step 2.1.)\n",
    "\n"
   ]
  },
  {
   "cell_type": "code",
   "execution_count": null,
   "metadata": {
    "colab": {},
    "colab_type": "code",
    "id": "UqoazA5a--0_"
   },
   "outputs": [],
   "source": [
    "# Do whatever you need to in order to ensure that the dataframe only contains\n",
    "# the columns that should be passed to the algorithm functions.\n",
    "\n"
   ]
  },
  {
   "cell_type": "markdown",
   "metadata": {
    "colab_type": "text",
    "id": "2wpmZ0oq--1D"
   },
   "source": [
    "### Step 1.3: Create a Cleaning Function\n",
    "\n",
    "Even though you've finished cleaning up the general population demographics data, it's important to look ahead to the future and realize that you'll need to perform the same cleaning steps on the customer demographics data. In this substep, complete the function below to execute the main feature selection, encoding, and re-engineering steps you performed above. Then, when it comes to looking at the customer data in Step 3, you can just run this function on that DataFrame to get the trimmed dataset in a single step."
   ]
  },
  {
   "cell_type": "code",
   "execution_count": null,
   "metadata": {
    "colab": {},
    "colab_type": "code",
    "id": "mLKhVOXA--1D"
   },
   "outputs": [],
   "source": [
    "def clean_data(df):\n",
    "    \"\"\"\n",
    "    Perform feature trimming, re-encoding, and engineering for demographics\n",
    "    data\n",
    "    \n",
    "    INPUT: Demographics DataFrame\n",
    "    OUTPUT: Trimmed and cleaned demographics DataFrame\n",
    "    \"\"\"\n",
    "    \n",
    "    # Put in code here to execute all main cleaning steps:\n",
    "    # convert missing value codes into NaNs, ...\n",
    "    \n",
    "    \n",
    "    # remove selected columns and rows, ...\n",
    "\n",
    "    \n",
    "    # select, re-encode, and engineer column values.\n",
    "\n",
    "    \n",
    "    # Return the cleaned dataframe.\n",
    "    \n",
    "    "
   ]
  },
  {
   "cell_type": "markdown",
   "metadata": {
    "colab_type": "text",
    "id": "-9ajBPln--1I"
   },
   "source": [
    "## Step 2: Feature Transformation\n",
    "\n",
    "### Step 2.1: Apply Feature Scaling\n",
    "\n",
    "Before we apply dimensionality reduction techniques to the data, we need to perform feature scaling so that the principal component vectors are not influenced by the natural differences in scale for features. Starting from this part of the project, you'll want to keep an eye on the [API reference page for sklearn](http://scikit-learn.org/stable/modules/classes.html) to help you navigate to all of the classes and functions that you'll need. In this substep, you'll need to check the following:\n",
    "\n",
    "- sklearn requires that data not have missing values in order for its estimators to work properly. So, before applying the scaler to your data, make sure that you've cleaned the DataFrame of the remaining missing values. This can be as simple as just removing all data points with missing data, or applying an [Imputer](http://scikit-learn.org/stable/modules/generated/sklearn.preprocessing.Imputer.html) to replace all missing values. You might also try a more complicated procedure where you temporarily remove missing values in order to compute the scaling parameters before re-introducing those missing values and applying imputation. Think about how much missing data you have and what possible effects each approach might have on your analysis, and justify your decision in the discussion section below.\n",
    "- For the actual scaling function, a [StandardScaler](http://scikit-learn.org/stable/modules/generated/sklearn.preprocessing.StandardScaler.html) instance is suggested, scaling each feature to mean 0 and standard deviation 1.\n",
    "- For these classes, you can make use of the `.fit_transform()` method to both fit a procedure to the data as well as apply the transformation to the data at the same time. Don't forget to keep the fit sklearn objects handy, since you'll be applying them to the customer demographics data towards the end of the project."
   ]
  },
  {
   "cell_type": "code",
   "execution_count": null,
   "metadata": {
    "colab": {},
    "colab_type": "code",
    "id": "D0VXXTdI--1J"
   },
   "outputs": [],
   "source": [
    "# If you've not yet cleaned the dataset of all NaN values, then investigate and\n",
    "# do that now.\n",
    "\n"
   ]
  },
  {
   "cell_type": "code",
   "execution_count": null,
   "metadata": {
    "colab": {},
    "colab_type": "code",
    "id": "npt_2tr4--1N"
   },
   "outputs": [],
   "source": [
    "# Apply feature scaling to the general population demographics data.\n",
    "\n"
   ]
  },
  {
   "cell_type": "markdown",
   "metadata": {
    "colab_type": "text",
    "id": "GtIyGXgS--1R"
   },
   "source": [
    "### Discussion 2.1: Apply Feature Scaling\n",
    "\n",
    "(Double-click this cell and replace this text with your own text, reporting your decisions regarding feature scaling.)"
   ]
  },
  {
   "cell_type": "markdown",
   "metadata": {
    "colab_type": "text",
    "id": "Oo4Y2DGY--1S"
   },
   "source": [
    "### Step 2.2: Perform Dimensionality Reduction\n",
    "\n",
    "On your scaled data, you are now ready to apply dimensionality reduction techniques.\n",
    "\n",
    "- Use sklearn's [PCA](http://scikit-learn.org/stable/modules/generated/sklearn.decomposition.PCA.html) class to apply principal component analysis on the data, thus finding the vectors of maximal variance in the data. To start, you should not set any parameters (so all components are computed) or set a number of components that is at least half the number of features (so there's enough features to see the general trend in variability).\n",
    "- Check out the ratio of variance explained by each principal component as well as the cumulative variance explained. Try plotting the cumulative or sequential values using matplotlib's [`plot()`](https://matplotlib.org/api/_as_gen/matplotlib.pyplot.plot.html) function. Based on what you find, select a value for the number of transformed features you'll retain for the clustering part of the project.\n",
    "- Once you've made a choice for the number of components to keep, make sure you re-fit a PCA instance to perform the decided-on transformation."
   ]
  },
  {
   "cell_type": "code",
   "execution_count": null,
   "metadata": {
    "colab": {},
    "colab_type": "code",
    "id": "XCeWIEWt--1S"
   },
   "outputs": [],
   "source": [
    "# Apply PCA to the data.\n",
    "\n"
   ]
  },
  {
   "cell_type": "code",
   "execution_count": null,
   "metadata": {
    "colab": {},
    "colab_type": "code",
    "id": "u4qXensr--1X"
   },
   "outputs": [],
   "source": [
    "# Investigate the variance accounted for by each principal component.\n",
    "\n"
   ]
  },
  {
   "cell_type": "code",
   "execution_count": null,
   "metadata": {
    "colab": {},
    "colab_type": "code",
    "id": "JmkMQDKO--1f"
   },
   "outputs": [],
   "source": [
    "# Re-apply PCA to the data while selecting for number of components to retain.\n",
    "\n"
   ]
  },
  {
   "cell_type": "markdown",
   "metadata": {
    "colab_type": "text",
    "id": "5J-eNrFR--1k"
   },
   "source": [
    "### Discussion 2.2: Perform Dimensionality Reduction\n",
    "\n",
    "(Double-click this cell and replace this text with your own text, reporting your findings and decisions regarding dimensionality reduction. How many principal components / transformed features are you retaining for the next step of the analysis?)"
   ]
  },
  {
   "cell_type": "markdown",
   "metadata": {
    "colab_type": "text",
    "id": "5lT_5Ybm--1l"
   },
   "source": [
    "### Step 2.3: Interpret Principal Components\n",
    "\n",
    "Now that we have our transformed principal components, it's a nice idea to check out the weight of each variable on the first few components to see if they can be interpreted in some fashion.\n",
    "\n",
    "As a reminder, each principal component is a unit vector that points in the direction of highest variance (after accounting for the variance captured by earlier principal components). The further a weight is from zero, the more the principal component is in the direction of the corresponding feature. If two features have large weights of the same sign (both positive or both negative), then increases in one tend expect to be associated with increases in the other. To contrast, features with different signs can be expected to show a negative correlation: increases in one variable should result in a decrease in the other.\n",
    "\n",
    "- To investigate the features, you should map each weight to their corresponding feature name, then sort the features according to weight. The most interesting features for each principal component, then, will be those at the beginning and end of the sorted list. Use the data dictionary document to help you understand these most prominent features, their relationships, and what a positive or negative value on the principal component might indicate.\n",
    "- You should investigate and interpret feature associations from the first three principal components in this substep. To help facilitate this, you should write a function that you can call at any time to print the sorted list of feature weights, for the *i*-th principal component. This might come in handy in the next step of the project, when you interpret the tendencies of the discovered clusters."
   ]
  },
  {
   "cell_type": "code",
   "execution_count": null,
   "metadata": {
    "colab": {},
    "colab_type": "code",
    "id": "FYxhz2zE--1l"
   },
   "outputs": [],
   "source": [
    "# Map weights for the first principal component to corresponding feature names\n",
    "# and then print the linked values, sorted by weight.\n",
    "# HINT: Try defining a function here or in a new cell that you can reuse in the\n",
    "# other cells.\n",
    "\n"
   ]
  },
  {
   "cell_type": "code",
   "execution_count": null,
   "metadata": {
    "colab": {},
    "colab_type": "code",
    "id": "3Zndssme--1s"
   },
   "outputs": [],
   "source": [
    "# Map weights for the second principal component to corresponding feature names\n",
    "# and then print the linked values, sorted by weight.\n",
    "\n"
   ]
  },
  {
   "cell_type": "code",
   "execution_count": null,
   "metadata": {
    "colab": {},
    "colab_type": "code",
    "id": "ZyEVB-uQ--1x"
   },
   "outputs": [],
   "source": [
    "# Map weights for the third principal component to corresponding feature names\n",
    "# and then print the linked values, sorted by weight.\n",
    "\n"
   ]
  },
  {
   "cell_type": "markdown",
   "metadata": {
    "colab_type": "text",
    "id": "DVUu8SfH--11"
   },
   "source": [
    "### Discussion 2.3: Interpret Principal Components\n",
    "\n",
    "(Double-click this cell and replace this text with your own text, reporting your observations from detailed investigation of the first few principal components generated. Can we interpret positive and negative values from them in a meaningful way?)"
   ]
  },
  {
   "cell_type": "markdown",
   "metadata": {
    "colab_type": "text",
    "id": "dyEH1iu6--12"
   },
   "source": [
    "## Step 3: Clustering\n",
    "\n",
    "### Step 3.1: Apply Clustering to General Population\n",
    "\n",
    "You've assessed and cleaned the demographics data, then scaled and transformed them. Now, it's time to see how the data clusters in the principal components space. In this substep, you will apply k-means clustering to the dataset and use the average within-cluster distances from each point to their assigned cluster's centroid to decide on a number of clusters to keep.\n",
    "\n",
    "- Use sklearn's [KMeans](http://scikit-learn.org/stable/modules/generated/sklearn.cluster.KMeans.html#sklearn.cluster.KMeans) class to perform k-means clustering on the PCA-transformed data.\n",
    "- Then, compute the average difference from each point to its assigned cluster's center. **Hint**: The KMeans object's `.score()` method might be useful here, but note that in sklearn, scores tend to be defined so that larger is better. Try applying it to a small, toy dataset, or use an internet search to help your understanding.\n",
    "- Perform the above two steps for a number of different cluster counts. You can then see how the average distance decreases with an increasing number of clusters. However, each additional cluster provides a smaller net benefit. Use this fact to select a final number of clusters in which to group the data. **Warning**: because of the large size of the dataset, it can take a long time for the algorithm to resolve. The more clusters to fit, the longer the algorithm will take. You should test for cluster counts through at least 10 clusters to get the full picture, but you shouldn't need to test for a number of clusters above about 30.\n",
    "- Once you've selected a final number of clusters to use, re-fit a KMeans instance to perform the clustering operation. Make sure that you also obtain the cluster assignments for the general demographics data, since you'll be using them in the final Step 3.3."
   ]
  },
  {
   "cell_type": "code",
   "execution_count": null,
   "metadata": {
    "colab": {},
    "colab_type": "code",
    "id": "orSu7PuV--13"
   },
   "outputs": [],
   "source": [
    "# Over a number of different cluster counts...\n",
    "\n",
    "\n",
    "    # run k-means clustering on the data and...\n",
    "    \n",
    "    \n",
    "    # compute the average within-cluster distances.\n",
    "    \n",
    "    "
   ]
  },
  {
   "cell_type": "code",
   "execution_count": null,
   "metadata": {
    "colab": {},
    "colab_type": "code",
    "id": "MZd1mYo7--18"
   },
   "outputs": [],
   "source": [
    "# Investigate the change in within-cluster distance across number of clusters.\n",
    "# HINT: Use matplotlib's plot function to visualize this relationship.\n",
    "\n"
   ]
  },
  {
   "cell_type": "code",
   "execution_count": null,
   "metadata": {
    "colab": {},
    "colab_type": "code",
    "id": "05CNkS03--2C"
   },
   "outputs": [],
   "source": [
    "# Re-fit the k-means model with the selected number of clusters and obtain\n",
    "# cluster predictions for the general population demographics data.\n",
    "\n"
   ]
  },
  {
   "cell_type": "markdown",
   "metadata": {
    "colab_type": "text",
    "id": "dDg8gVLF--2H"
   },
   "source": [
    "### Discussion 3.1: Apply Clustering to General Population\n",
    "\n",
    "(Double-click this cell and replace this text with your own text, reporting your findings and decisions regarding clustering. Into how many clusters have you decided to segment the population?)"
   ]
  },
  {
   "cell_type": "markdown",
   "metadata": {
    "colab_type": "text",
    "id": "YcngVeTl--2I"
   },
   "source": [
    "### Step 3.2: Apply All Steps to the Customer Data\n",
    "\n",
    "Now that you have clusters and cluster centers for the general population, it's time to see how the customer data maps on to those clusters. Take care to not confuse this for re-fitting all of the models to the customer data. Instead, you're going to use the fits from the general population to clean, transform, and cluster the customer data. In the last step of the project, you will interpret how the general population fits apply to the customer data.\n",
    "\n",
    "- Don't forget when loading in the customers data, that it is semicolon (`;`) delimited.\n",
    "- Apply the same feature wrangling, selection, and engineering steps to the customer demographics using the `clean_data()` function you created earlier. (You can assume that the customer demographics data has similar meaning behind missing data patterns as the general demographics data.)\n",
    "- Use the sklearn objects from the general demographics data, and apply their transformations to the customers data. That is, you should not be using a `.fit()` or `.fit_transform()` method to re-fit the old objects, nor should you be creating new sklearn objects! Carry the data through the feature scaling, PCA, and clustering steps, obtaining cluster assignments for all of the data in the customer demographics data."
   ]
  },
  {
   "cell_type": "code",
   "execution_count": null,
   "metadata": {
    "colab": {},
    "colab_type": "code",
    "id": "2py5Cmr1--2I"
   },
   "outputs": [],
   "source": [
    "# Load in the customer demographics data.\n",
    "customers = "
   ]
  },
  {
   "cell_type": "code",
   "execution_count": null,
   "metadata": {
    "colab": {},
    "colab_type": "code",
    "id": "1muukNjv--2M"
   },
   "outputs": [],
   "source": [
    "# Apply preprocessing, feature transformation, and clustering from the general\n",
    "# demographics onto the customer data, obtaining cluster predictions for the\n",
    "# customer demographics data.\n",
    "\n"
   ]
  },
  {
   "cell_type": "markdown",
   "metadata": {
    "colab_type": "text",
    "id": "K43OeJhv--2Q"
   },
   "source": [
    "### Step 3.3: Compare Customer Data to Demographics Data\n",
    "\n",
    "At this point, you have clustered data based on demographics of the general population of Germany, and seen how the customer data for a mail-order sales company maps onto those demographic clusters. In this final substep, you will compare the two cluster distributions to see where the strongest customer base for the company is.\n",
    "\n",
    "Consider the proportion of persons in each cluster for the general population, and the proportions for the customers. If we think the company's customer base to be universal, then the cluster assignment proportions should be fairly similar between the two. If there are only particular segments of the population that are interested in the company's products, then we should see a mismatch from one to the other. If there is a higher proportion of persons in a cluster for the customer data compared to the general population (e.g. 5% of persons are assigned to a cluster for the general population, but 15% of the customer data is closest to that cluster's centroid) then that suggests the people in that cluster to be a target audience for the company. On the other hand, the proportion of the data in a cluster being larger in the general population than the customer data (e.g. only 2% of customers closest to a population centroid that captures 6% of the data) suggests that group of persons to be outside of the target demographics.\n",
    "\n",
    "Take a look at the following points in this step:\n",
    "\n",
    "- Compute the proportion of data points in each cluster for the general population and the customer data. Visualizations will be useful here: both for the individual dataset proportions, but also to visualize the ratios in cluster representation between groups. Seaborn's [`countplot()`](https://seaborn.pydata.org/generated/seaborn.countplot.html) or [`barplot()`](https://seaborn.pydata.org/generated/seaborn.barplot.html) function could be handy.\n",
    "  - Recall the analysis you performed in step 1.1.3 of the project, where you separated out certain data points from the dataset if they had more than a specified threshold of missing values. If you found that this group was qualitatively different from the main bulk of the data, you should treat this as an additional data cluster in this analysis. Make sure that you account for the number of data points in this subset, for both the general population and customer datasets, when making your computations!\n",
    "- Which cluster or clusters are overrepresented in the customer dataset compared to the general population? Select at least one such cluster and infer what kind of people might be represented by that cluster. Use the principal component interpretations from step 2.3 or look at additional components to help you make this inference. Alternatively, you can use the `.inverse_transform()` method of the PCA and StandardScaler objects to transform centroids back to the original data space and interpret the retrieved values directly.\n",
    "- Perform a similar investigation for the underrepresented clusters. Which cluster or clusters are underrepresented in the customer dataset compared to the general population, and what kinds of people are typified by these clusters?"
   ]
  },
  {
   "cell_type": "code",
   "execution_count": null,
   "metadata": {
    "colab": {},
    "colab_type": "code",
    "id": "v7rU_2Mm--2Q"
   },
   "outputs": [],
   "source": [
    "# Compare the proportion of data in each cluster for the customer data to the\n",
    "# proportion of data in each cluster for the general population.\n",
    "\n"
   ]
  },
  {
   "cell_type": "code",
   "execution_count": null,
   "metadata": {
    "colab": {},
    "colab_type": "code",
    "id": "UUNdp86Z--2W"
   },
   "outputs": [],
   "source": [
    "# What kinds of people are part of a cluster that is overrepresented in the\n",
    "# customer data compared to the general population?\n",
    "\n"
   ]
  },
  {
   "cell_type": "code",
   "execution_count": null,
   "metadata": {
    "colab": {},
    "colab_type": "code",
    "id": "XFFT95VM--2d"
   },
   "outputs": [],
   "source": [
    "# What kinds of people are part of a cluster that is underrepresented in the\n",
    "# customer data compared to the general population?\n",
    "\n"
   ]
  },
  {
   "cell_type": "markdown",
   "metadata": {
    "colab_type": "text",
    "id": "oAmV5AJi--2j"
   },
   "source": [
    "### Discussion 3.3: Compare Customer Data to Demographics Data\n",
    "\n",
    "(Double-click this cell and replace this text with your own text, reporting findings and conclusions from the clustering analysis. Can we describe segments of the population that are relatively popular with the mail-order company, or relatively unpopular with the company?)"
   ]
  },
  {
   "cell_type": "markdown",
   "metadata": {
    "colab_type": "text",
    "id": "di1ULqME--2k"
   },
   "source": [
    "> Congratulations on making it this far in the project! Before you finish, make sure to check through the entire notebook from top to bottom to make sure that your analysis follows a logical flow and all of your findings are documented in **Discussion** cells. Once you've checked over all of your work, you should export the notebook as an HTML document to submit for evaluation. You can do this from the menu, navigating to **File -> Download as -> HTML (.html)**. You will submit both that document and this notebook for your project submission."
   ]
  },
  {
   "cell_type": "code",
   "execution_count": null,
   "metadata": {
    "colab": {},
    "colab_type": "code",
    "id": "ZR1MruTo--2l"
   },
   "outputs": [],
   "source": []
  }
 ],
 "metadata": {
  "colab": {
   "collapsed_sections": [
    "fa7vWmHR--0W",
    "2tj1eDuu--0d",
    "F3g48a2K--0o",
    "GoCSJgcS--0q",
    "AYC5doUs--03",
    "182jsARG--04"
   ],
   "name": "Identify_Customer_Segments.ipynb",
   "provenance": []
  },
  "kernelspec": {
   "display_name": "Python 3",
   "language": "python",
   "name": "python3"
  },
  "language_info": {
   "codemirror_mode": {
    "name": "ipython",
    "version": 3
   },
   "file_extension": ".py",
   "mimetype": "text/x-python",
   "name": "python",
   "nbconvert_exporter": "python",
   "pygments_lexer": "ipython3",
   "version": "3.7.6"
  }
 },
 "nbformat": 4,
 "nbformat_minor": 4
}
